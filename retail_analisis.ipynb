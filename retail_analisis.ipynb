{
 "cells": [
  {
   "cell_type": "markdown",
   "metadata": {},
   "source": [
    "# Introduction to Ideal Customer Behavior Analysis\n",
    "\n",
    "## Objective\n",
    "\n",
    "The primary objective of this analysis is to unravel the defining characteristics and behaviors of the 'ideal customer' within our digital wallet application. By identifying patterns in usage, acquisition, and retention, we aim to:\n",
    "\n",
    "- Understand the demographic and transactional profile of our most valuable customers.\n",
    "- Discover how and when these customers engage with our platform.\n",
    "- Determine which marketing channels are most effective in acquiring and retaining these customers.\n",
    "\n",
    "## Purpose\n",
    "\n",
    "The insights garnered from this analysis will be instrumental in:\n",
    "\n",
    "- **Strategizing Marketing Efforts**: Aligning marketing initiatives with proven acquisition channels and times.\n",
    "- **Enhancing Product Development**: Tailoring app features and services to meet the needs of our ideal customers.\n",
    "- **Optimizing User Experience**: Streamlining the customer journey to boost satisfaction and engagement.\n",
    "- **Expanding Customer Base**: Applying successful characteristics of ideal customers to broader segments.\n",
    "\n",
    "## Approach\n",
    "\n",
    "We will dissect our user data across multiple dimensions, including:\n",
    "\n",
    "- Transaction frequency and volume\n",
    "- Acquisition channels and their effectiveness\n",
    "- Seasonal trends in user acquisition and activity\n",
    "- Geographical distribution of customer acquisition\n",
    "\n",
    "Through this multifaceted analysis, we endeavor to craft targeted strategies that will not only attract more ideal customers but also elevate the overall user base, driving growth and ensuring the longevity of our digital wallet service.\n",
    "\n"
   ]
  },
  {
   "cell_type": "code",
   "execution_count": 2,
   "metadata": {},
   "outputs": [],
   "source": [
    "# Importing necessary libraries for data analysis and visualization\n",
    "import pandas as pd\n",
    "import plotly.express as px\n",
    "import geopandas as gpd\n",
    "import folium\n",
    "import branca\n",
    "from branca.element import Template, MacroElement"
   ]
  },
  {
   "cell_type": "code",
   "execution_count": 3,
   "metadata": {},
   "outputs": [],
   "source": [
    "# Loading transaction and geospatial data\n",
    "data = pd.read_csv('txns_data.csv')\n",
    "mexico =gpd.read_file('C:/Users/52222/OneDrive/Documentos/Data Projects/Personal_projects/retail/2022_00_ENT/2022_00_ENT.shp')"
   ]
  },
  {
   "cell_type": "code",
   "execution_count": 4,
   "metadata": {},
   "outputs": [],
   "source": [
    "# Correcting encoding issues in the 'NOMGEO' column of the Mexico geospatial data\n",
    "mexico['NOMGEO'] = mexico['NOMGEO'].replace({\n",
    "    'Ciudad de MÃ©xico':'Ciudad de México',\n",
    "    'MÃ©xico':'México',\n",
    "    'MichoacÃ¡n de Ocampo':'Michoacán de Ocampo',\n",
    "    'Nuevo LeÃ³n':'Nuevo León',\n",
    "    'QuerÃ©taro':'Querétaro',\n",
    "    'San Luis PotosÃ\\xad':'San Luis Potosí',\n",
    "    'YucatÃ¡n':'Yucatán',\n",
    "})\n",
    "\n",
    "# Converting date columns to pandas datetime objects\n",
    "data['first_txn_date'] = pd.to_datetime(data['first_txn_date'])\n",
    "data['txn_date'] = pd.to_datetime(data['txn_date'])\n",
    "\n",
    "# Creating new columns representing the month of the transaction\n",
    "data['first_txn_month'] = data['first_txn_date'].dt.to_period('M')\n",
    "data['txn_month'] = data['txn_date'].dt.to_period('M')\n",
    "\n",
    "# Adding a new column to categorize users as 'New customer' or 'Repeated customer'\n",
    "data['user_status'] = data.apply(lambda row: 'New customer' if row['first_txn_month'] == row['txn_month'] else 'Repeated customer', axis=1)"
   ]
  },
  {
   "cell_type": "markdown",
   "metadata": {},
   "source": [
    "# Quick summary"
   ]
  },
  {
   "cell_type": "code",
   "execution_count": 5,
   "metadata": {},
   "outputs": [
    {
     "name": "stdout",
     "output_type": "stream",
     "text": [
      "Unique customers: 4,455\n",
      "Total TPV: $31,966,559\n",
      "Total transactions: 56,419\n"
     ]
    }
   ],
   "source": [
    "# Key metrics\n",
    "unique_customers = data['customerID'].nunique()\n",
    "total_tpv = data['tpv'].sum()\n",
    "total_txns = data['txn_ID'].nunique()\n",
    "\n",
    "# Printing the calculated metrics\n",
    "print(f'Unique customers: {unique_customers:,}')\n",
    "print(f'Total TPV: ${round(total_tpv):,}')\n",
    "print(f'Total transactions: {total_txns:,}')"
   ]
  },
  {
   "cell_type": "markdown",
   "metadata": {},
   "source": [
    "# Analyzing customers"
   ]
  },
  {
   "cell_type": "code",
   "execution_count": 6,
   "metadata": {},
   "outputs": [
    {
     "data": {
      "application/vnd.plotly.v1+json": {
       "config": {
        "plotlyServerURL": "https://plot.ly"
       },
       "data": [
        {
         "alignmentgroup": "True",
         "hovertemplate": "User status=New customer<br>Month=%{x}<br>Count of unique customers=%{y}<extra></extra>",
         "legendgroup": "New customer",
         "marker": {
          "color": "#2C3538",
          "pattern": {
           "shape": ""
          }
         },
         "name": "New customer",
         "offsetgroup": "New customer",
         "orientation": "v",
         "showlegend": true,
         "textposition": "auto",
         "type": "bar",
         "x": [
          "2023-01",
          "2023-02",
          "2023-03",
          "2023-04",
          "2023-05",
          "2023-06",
          "2023-07",
          "2023-08",
          "2023-09",
          "2023-10",
          "2023-11",
          "2023-12"
         ],
         "xaxis": "x",
         "y": [
          514,
          361,
          448,
          353,
          402,
          356,
          526,
          261,
          319,
          334,
          378,
          206
         ],
         "yaxis": "y"
        },
        {
         "alignmentgroup": "True",
         "hovertemplate": "User status=Repeated customer<br>Month=%{x}<br>Count of unique customers=%{y}<extra></extra>",
         "legendgroup": "Repeated customer",
         "marker": {
          "color": "#5C7278",
          "pattern": {
           "shape": ""
          }
         },
         "name": "Repeated customer",
         "offsetgroup": "Repeated customer",
         "orientation": "v",
         "showlegend": true,
         "textposition": "auto",
         "type": "bar",
         "x": [
          "2023-02",
          "2023-03",
          "2023-04",
          "2023-05",
          "2023-06",
          "2023-07",
          "2023-08",
          "2023-09",
          "2023-10",
          "2023-11",
          "2023-12"
         ],
         "xaxis": "x",
         "y": [
          871,
          1275,
          1557,
          1759,
          1901,
          2299,
          2531,
          2606,
          2272,
          2408,
          2715
         ],
         "yaxis": "y"
        }
       ],
       "layout": {
        "barmode": "group",
        "legend": {
         "title": {
          "text": "User status"
         },
         "tracegroupgap": 0
        },
        "paper_bgcolor": "white",
        "plot_bgcolor": "white",
        "template": {
         "data": {
          "bar": [
           {
            "error_x": {
             "color": "#2a3f5f"
            },
            "error_y": {
             "color": "#2a3f5f"
            },
            "marker": {
             "line": {
              "color": "#E5ECF6",
              "width": 0.5
             },
             "pattern": {
              "fillmode": "overlay",
              "size": 10,
              "solidity": 0.2
             }
            },
            "type": "bar"
           }
          ],
          "barpolar": [
           {
            "marker": {
             "line": {
              "color": "#E5ECF6",
              "width": 0.5
             },
             "pattern": {
              "fillmode": "overlay",
              "size": 10,
              "solidity": 0.2
             }
            },
            "type": "barpolar"
           }
          ],
          "carpet": [
           {
            "aaxis": {
             "endlinecolor": "#2a3f5f",
             "gridcolor": "white",
             "linecolor": "white",
             "minorgridcolor": "white",
             "startlinecolor": "#2a3f5f"
            },
            "baxis": {
             "endlinecolor": "#2a3f5f",
             "gridcolor": "white",
             "linecolor": "white",
             "minorgridcolor": "white",
             "startlinecolor": "#2a3f5f"
            },
            "type": "carpet"
           }
          ],
          "choropleth": [
           {
            "colorbar": {
             "outlinewidth": 0,
             "ticks": ""
            },
            "type": "choropleth"
           }
          ],
          "contour": [
           {
            "colorbar": {
             "outlinewidth": 0,
             "ticks": ""
            },
            "colorscale": [
             [
              0,
              "#0d0887"
             ],
             [
              0.1111111111111111,
              "#46039f"
             ],
             [
              0.2222222222222222,
              "#7201a8"
             ],
             [
              0.3333333333333333,
              "#9c179e"
             ],
             [
              0.4444444444444444,
              "#bd3786"
             ],
             [
              0.5555555555555556,
              "#d8576b"
             ],
             [
              0.6666666666666666,
              "#ed7953"
             ],
             [
              0.7777777777777778,
              "#fb9f3a"
             ],
             [
              0.8888888888888888,
              "#fdca26"
             ],
             [
              1,
              "#f0f921"
             ]
            ],
            "type": "contour"
           }
          ],
          "contourcarpet": [
           {
            "colorbar": {
             "outlinewidth": 0,
             "ticks": ""
            },
            "type": "contourcarpet"
           }
          ],
          "heatmap": [
           {
            "colorbar": {
             "outlinewidth": 0,
             "ticks": ""
            },
            "colorscale": [
             [
              0,
              "#0d0887"
             ],
             [
              0.1111111111111111,
              "#46039f"
             ],
             [
              0.2222222222222222,
              "#7201a8"
             ],
             [
              0.3333333333333333,
              "#9c179e"
             ],
             [
              0.4444444444444444,
              "#bd3786"
             ],
             [
              0.5555555555555556,
              "#d8576b"
             ],
             [
              0.6666666666666666,
              "#ed7953"
             ],
             [
              0.7777777777777778,
              "#fb9f3a"
             ],
             [
              0.8888888888888888,
              "#fdca26"
             ],
             [
              1,
              "#f0f921"
             ]
            ],
            "type": "heatmap"
           }
          ],
          "heatmapgl": [
           {
            "colorbar": {
             "outlinewidth": 0,
             "ticks": ""
            },
            "colorscale": [
             [
              0,
              "#0d0887"
             ],
             [
              0.1111111111111111,
              "#46039f"
             ],
             [
              0.2222222222222222,
              "#7201a8"
             ],
             [
              0.3333333333333333,
              "#9c179e"
             ],
             [
              0.4444444444444444,
              "#bd3786"
             ],
             [
              0.5555555555555556,
              "#d8576b"
             ],
             [
              0.6666666666666666,
              "#ed7953"
             ],
             [
              0.7777777777777778,
              "#fb9f3a"
             ],
             [
              0.8888888888888888,
              "#fdca26"
             ],
             [
              1,
              "#f0f921"
             ]
            ],
            "type": "heatmapgl"
           }
          ],
          "histogram": [
           {
            "marker": {
             "pattern": {
              "fillmode": "overlay",
              "size": 10,
              "solidity": 0.2
             }
            },
            "type": "histogram"
           }
          ],
          "histogram2d": [
           {
            "colorbar": {
             "outlinewidth": 0,
             "ticks": ""
            },
            "colorscale": [
             [
              0,
              "#0d0887"
             ],
             [
              0.1111111111111111,
              "#46039f"
             ],
             [
              0.2222222222222222,
              "#7201a8"
             ],
             [
              0.3333333333333333,
              "#9c179e"
             ],
             [
              0.4444444444444444,
              "#bd3786"
             ],
             [
              0.5555555555555556,
              "#d8576b"
             ],
             [
              0.6666666666666666,
              "#ed7953"
             ],
             [
              0.7777777777777778,
              "#fb9f3a"
             ],
             [
              0.8888888888888888,
              "#fdca26"
             ],
             [
              1,
              "#f0f921"
             ]
            ],
            "type": "histogram2d"
           }
          ],
          "histogram2dcontour": [
           {
            "colorbar": {
             "outlinewidth": 0,
             "ticks": ""
            },
            "colorscale": [
             [
              0,
              "#0d0887"
             ],
             [
              0.1111111111111111,
              "#46039f"
             ],
             [
              0.2222222222222222,
              "#7201a8"
             ],
             [
              0.3333333333333333,
              "#9c179e"
             ],
             [
              0.4444444444444444,
              "#bd3786"
             ],
             [
              0.5555555555555556,
              "#d8576b"
             ],
             [
              0.6666666666666666,
              "#ed7953"
             ],
             [
              0.7777777777777778,
              "#fb9f3a"
             ],
             [
              0.8888888888888888,
              "#fdca26"
             ],
             [
              1,
              "#f0f921"
             ]
            ],
            "type": "histogram2dcontour"
           }
          ],
          "mesh3d": [
           {
            "colorbar": {
             "outlinewidth": 0,
             "ticks": ""
            },
            "type": "mesh3d"
           }
          ],
          "parcoords": [
           {
            "line": {
             "colorbar": {
              "outlinewidth": 0,
              "ticks": ""
             }
            },
            "type": "parcoords"
           }
          ],
          "pie": [
           {
            "automargin": true,
            "type": "pie"
           }
          ],
          "scatter": [
           {
            "fillpattern": {
             "fillmode": "overlay",
             "size": 10,
             "solidity": 0.2
            },
            "type": "scatter"
           }
          ],
          "scatter3d": [
           {
            "line": {
             "colorbar": {
              "outlinewidth": 0,
              "ticks": ""
             }
            },
            "marker": {
             "colorbar": {
              "outlinewidth": 0,
              "ticks": ""
             }
            },
            "type": "scatter3d"
           }
          ],
          "scattercarpet": [
           {
            "marker": {
             "colorbar": {
              "outlinewidth": 0,
              "ticks": ""
             }
            },
            "type": "scattercarpet"
           }
          ],
          "scattergeo": [
           {
            "marker": {
             "colorbar": {
              "outlinewidth": 0,
              "ticks": ""
             }
            },
            "type": "scattergeo"
           }
          ],
          "scattergl": [
           {
            "marker": {
             "colorbar": {
              "outlinewidth": 0,
              "ticks": ""
             }
            },
            "type": "scattergl"
           }
          ],
          "scattermapbox": [
           {
            "marker": {
             "colorbar": {
              "outlinewidth": 0,
              "ticks": ""
             }
            },
            "type": "scattermapbox"
           }
          ],
          "scatterpolar": [
           {
            "marker": {
             "colorbar": {
              "outlinewidth": 0,
              "ticks": ""
             }
            },
            "type": "scatterpolar"
           }
          ],
          "scatterpolargl": [
           {
            "marker": {
             "colorbar": {
              "outlinewidth": 0,
              "ticks": ""
             }
            },
            "type": "scatterpolargl"
           }
          ],
          "scatterternary": [
           {
            "marker": {
             "colorbar": {
              "outlinewidth": 0,
              "ticks": ""
             }
            },
            "type": "scatterternary"
           }
          ],
          "surface": [
           {
            "colorbar": {
             "outlinewidth": 0,
             "ticks": ""
            },
            "colorscale": [
             [
              0,
              "#0d0887"
             ],
             [
              0.1111111111111111,
              "#46039f"
             ],
             [
              0.2222222222222222,
              "#7201a8"
             ],
             [
              0.3333333333333333,
              "#9c179e"
             ],
             [
              0.4444444444444444,
              "#bd3786"
             ],
             [
              0.5555555555555556,
              "#d8576b"
             ],
             [
              0.6666666666666666,
              "#ed7953"
             ],
             [
              0.7777777777777778,
              "#fb9f3a"
             ],
             [
              0.8888888888888888,
              "#fdca26"
             ],
             [
              1,
              "#f0f921"
             ]
            ],
            "type": "surface"
           }
          ],
          "table": [
           {
            "cells": {
             "fill": {
              "color": "#EBF0F8"
             },
             "line": {
              "color": "white"
             }
            },
            "header": {
             "fill": {
              "color": "#C8D4E3"
             },
             "line": {
              "color": "white"
             }
            },
            "type": "table"
           }
          ]
         },
         "layout": {
          "annotationdefaults": {
           "arrowcolor": "#2a3f5f",
           "arrowhead": 0,
           "arrowwidth": 1
          },
          "autotypenumbers": "strict",
          "coloraxis": {
           "colorbar": {
            "outlinewidth": 0,
            "ticks": ""
           }
          },
          "colorscale": {
           "diverging": [
            [
             0,
             "#8e0152"
            ],
            [
             0.1,
             "#c51b7d"
            ],
            [
             0.2,
             "#de77ae"
            ],
            [
             0.3,
             "#f1b6da"
            ],
            [
             0.4,
             "#fde0ef"
            ],
            [
             0.5,
             "#f7f7f7"
            ],
            [
             0.6,
             "#e6f5d0"
            ],
            [
             0.7,
             "#b8e186"
            ],
            [
             0.8,
             "#7fbc41"
            ],
            [
             0.9,
             "#4d9221"
            ],
            [
             1,
             "#276419"
            ]
           ],
           "sequential": [
            [
             0,
             "#0d0887"
            ],
            [
             0.1111111111111111,
             "#46039f"
            ],
            [
             0.2222222222222222,
             "#7201a8"
            ],
            [
             0.3333333333333333,
             "#9c179e"
            ],
            [
             0.4444444444444444,
             "#bd3786"
            ],
            [
             0.5555555555555556,
             "#d8576b"
            ],
            [
             0.6666666666666666,
             "#ed7953"
            ],
            [
             0.7777777777777778,
             "#fb9f3a"
            ],
            [
             0.8888888888888888,
             "#fdca26"
            ],
            [
             1,
             "#f0f921"
            ]
           ],
           "sequentialminus": [
            [
             0,
             "#0d0887"
            ],
            [
             0.1111111111111111,
             "#46039f"
            ],
            [
             0.2222222222222222,
             "#7201a8"
            ],
            [
             0.3333333333333333,
             "#9c179e"
            ],
            [
             0.4444444444444444,
             "#bd3786"
            ],
            [
             0.5555555555555556,
             "#d8576b"
            ],
            [
             0.6666666666666666,
             "#ed7953"
            ],
            [
             0.7777777777777778,
             "#fb9f3a"
            ],
            [
             0.8888888888888888,
             "#fdca26"
            ],
            [
             1,
             "#f0f921"
            ]
           ]
          },
          "colorway": [
           "#636efa",
           "#EF553B",
           "#00cc96",
           "#ab63fa",
           "#FFA15A",
           "#19d3f3",
           "#FF6692",
           "#B6E880",
           "#FF97FF",
           "#FECB52"
          ],
          "font": {
           "color": "#2a3f5f"
          },
          "geo": {
           "bgcolor": "white",
           "lakecolor": "white",
           "landcolor": "#E5ECF6",
           "showlakes": true,
           "showland": true,
           "subunitcolor": "white"
          },
          "hoverlabel": {
           "align": "left"
          },
          "hovermode": "closest",
          "mapbox": {
           "style": "light"
          },
          "paper_bgcolor": "white",
          "plot_bgcolor": "#E5ECF6",
          "polar": {
           "angularaxis": {
            "gridcolor": "white",
            "linecolor": "white",
            "ticks": ""
           },
           "bgcolor": "#E5ECF6",
           "radialaxis": {
            "gridcolor": "white",
            "linecolor": "white",
            "ticks": ""
           }
          },
          "scene": {
           "xaxis": {
            "backgroundcolor": "#E5ECF6",
            "gridcolor": "white",
            "gridwidth": 2,
            "linecolor": "white",
            "showbackground": true,
            "ticks": "",
            "zerolinecolor": "white"
           },
           "yaxis": {
            "backgroundcolor": "#E5ECF6",
            "gridcolor": "white",
            "gridwidth": 2,
            "linecolor": "white",
            "showbackground": true,
            "ticks": "",
            "zerolinecolor": "white"
           },
           "zaxis": {
            "backgroundcolor": "#E5ECF6",
            "gridcolor": "white",
            "gridwidth": 2,
            "linecolor": "white",
            "showbackground": true,
            "ticks": "",
            "zerolinecolor": "white"
           }
          },
          "shapedefaults": {
           "line": {
            "color": "#2a3f5f"
           }
          },
          "ternary": {
           "aaxis": {
            "gridcolor": "white",
            "linecolor": "white",
            "ticks": ""
           },
           "baxis": {
            "gridcolor": "white",
            "linecolor": "white",
            "ticks": ""
           },
           "bgcolor": "#E5ECF6",
           "caxis": {
            "gridcolor": "white",
            "linecolor": "white",
            "ticks": ""
           }
          },
          "title": {
           "x": 0.05
          },
          "xaxis": {
           "automargin": true,
           "gridcolor": "white",
           "linecolor": "white",
           "ticks": "",
           "title": {
            "standoff": 15
           },
           "zerolinecolor": "white",
           "zerolinewidth": 2
          },
          "yaxis": {
           "automargin": true,
           "gridcolor": "white",
           "linecolor": "white",
           "ticks": "",
           "title": {
            "standoff": 15
           },
           "zerolinecolor": "white",
           "zerolinewidth": 2
          }
         }
        },
        "title": {
         "text": "Customer acquisition and retention throughout 2023",
         "x": 0.5
        },
        "xaxis": {
         "anchor": "y",
         "domain": [
          0,
          1
         ],
         "title": {
          "text": "Month"
         }
        },
        "yaxis": {
         "anchor": "x",
         "domain": [
          0,
          1
         ],
         "title": {
          "text": "Count of unique customers"
         }
        }
       }
      }
     },
     "metadata": {},
     "output_type": "display_data"
    }
   ],
   "source": [
    "monthly_customers = data.groupby(['txn_month', 'user_status'])['customerID'].nunique().reset_index()\n",
    "monthly_customers['txn_month'] = monthly_customers['txn_month'].astype(str)\n",
    "\n",
    "colors = {'New customer': '#2C3538', 'Repeated customer': '#5C7278'}\n",
    "\n",
    "fig = px.bar(monthly_customers, \n",
    "             x='txn_month', \n",
    "             y='customerID', \n",
    "             color='user_status', \n",
    "             barmode='group',\n",
    "             color_discrete_map= colors,\n",
    "             labels={'txn_month': 'Month', 'customerID': 'Count of unique customers', 'user_status': 'User status'},\n",
    "             title='Customer acquisition and retention throughout 2023')\n",
    "\n",
    "fig.update_layout(\n",
    "    plot_bgcolor='white',\n",
    "    paper_bgcolor='white',\n",
    "    title_x = 0.5\n",
    ")\n",
    "\n",
    "fig.show()"
   ]
  },
  {
   "cell_type": "markdown",
   "metadata": {},
   "source": [
    "### Insight 1: Strong Growth in Customer Retention Over New Acquisitions\n",
    "\n",
    "Over the year 2023, the data highlights a consistent growth in the number of repeated customers each month, while the number of new customers remains relatively stable or even shows a slight decline. For instance, repeated customers increased from 871 in February to 2,715 in December, suggesting effective customer retention strategies.\n",
    "\n",
    "### Insight 2: Seasonal Trends in New Customer Acquisition\n",
    "\n",
    "There is a noticeable trend where new customer acquisition peaks during certain months, such as January, March, and July, hinting at potential seasonal marketing impacts or external factors influencing user sign-ups. For example, the spike to 526 new customers in July might indicate a successful campaign or seasonal promotion."
   ]
  },
  {
   "cell_type": "markdown",
   "metadata": {},
   "source": [
    "# Analyzing TPV"
   ]
  },
  {
   "cell_type": "code",
   "execution_count": 7,
   "metadata": {},
   "outputs": [
    {
     "data": {
      "application/vnd.plotly.v1+json": {
       "config": {
        "plotlyServerURL": "https://plot.ly"
       },
       "data": [
        {
         "alignmentgroup": "True",
         "hovertemplate": "Transaction type=Bill_Payments<br>Month=%{x}<br>TPV=%{y}<extra></extra>",
         "legendgroup": "Bill_Payments",
         "marker": {
          "color": "#80CEFF",
          "pattern": {
           "shape": ""
          }
         },
         "name": "Bill_Payments",
         "offsetgroup": "Bill_Payments",
         "orientation": "v",
         "showlegend": true,
         "textposition": "auto",
         "type": "bar",
         "x": [
          "2023-01",
          "2023-02",
          "2023-03",
          "2023-04",
          "2023-05",
          "2023-06",
          "2023-07",
          "2023-08",
          "2023-09",
          "2023-10",
          "2023-11",
          "2023-12"
         ],
         "xaxis": "x",
         "y": [
          921674.8,
          983347.55,
          1008090.73,
          993944.38,
          845893.13,
          777187.52,
          939085.91,
          966299.5,
          915063.69,
          659281.72,
          733973.65,
          803750.82
         ],
         "yaxis": "y"
        },
        {
         "alignmentgroup": "True",
         "hovertemplate": "Transaction type=Ecommerce<br>Month=%{x}<br>TPV=%{y}<extra></extra>",
         "legendgroup": "Ecommerce",
         "marker": {
          "color": "#D49947",
          "pattern": {
           "shape": ""
          }
         },
         "name": "Ecommerce",
         "offsetgroup": "Ecommerce",
         "orientation": "v",
         "showlegend": true,
         "textposition": "auto",
         "type": "bar",
         "x": [
          "2023-01",
          "2023-02",
          "2023-03",
          "2023-04",
          "2023-05",
          "2023-06",
          "2023-07",
          "2023-08",
          "2023-09",
          "2023-10",
          "2023-11",
          "2023-12"
         ],
         "xaxis": "x",
         "y": [
          977610.13,
          964716.58,
          955145.93,
          989502.99,
          898884.07,
          763990.01,
          955203.05,
          947044.48,
          939021.81,
          701093.33,
          756083.26,
          824483.9
         ],
         "yaxis": "y"
        },
        {
         "alignmentgroup": "True",
         "hovertemplate": "Transaction type=Pay_at_Store<br>Month=%{x}<br>TPV=%{y}<extra></extra>",
         "legendgroup": "Pay_at_Store",
         "marker": {
          "color": "#004F80",
          "pattern": {
           "shape": ""
          }
         },
         "name": "Pay_at_Store",
         "offsetgroup": "Pay_at_Store",
         "orientation": "v",
         "showlegend": true,
         "textposition": "auto",
         "type": "bar",
         "x": [
          "2023-01",
          "2023-02",
          "2023-03",
          "2023-04",
          "2023-05",
          "2023-06",
          "2023-07",
          "2023-08",
          "2023-09",
          "2023-10",
          "2023-11",
          "2023-12"
         ],
         "xaxis": "x",
         "y": [
          975054.31,
          1031781.66,
          956950.41,
          985423.07,
          829209.34,
          786467.22,
          943941.05,
          959054.6,
          956804.7,
          705158.42,
          762643.6,
          853697.21
         ],
         "yaxis": "y"
        }
       ],
       "layout": {
        "barmode": "relative",
        "legend": {
         "title": {
          "text": "Transaction type"
         },
         "tracegroupgap": 0
        },
        "paper_bgcolor": "white",
        "plot_bgcolor": "white",
        "template": {
         "data": {
          "bar": [
           {
            "error_x": {
             "color": "#2a3f5f"
            },
            "error_y": {
             "color": "#2a3f5f"
            },
            "marker": {
             "line": {
              "color": "#E5ECF6",
              "width": 0.5
             },
             "pattern": {
              "fillmode": "overlay",
              "size": 10,
              "solidity": 0.2
             }
            },
            "type": "bar"
           }
          ],
          "barpolar": [
           {
            "marker": {
             "line": {
              "color": "#E5ECF6",
              "width": 0.5
             },
             "pattern": {
              "fillmode": "overlay",
              "size": 10,
              "solidity": 0.2
             }
            },
            "type": "barpolar"
           }
          ],
          "carpet": [
           {
            "aaxis": {
             "endlinecolor": "#2a3f5f",
             "gridcolor": "white",
             "linecolor": "white",
             "minorgridcolor": "white",
             "startlinecolor": "#2a3f5f"
            },
            "baxis": {
             "endlinecolor": "#2a3f5f",
             "gridcolor": "white",
             "linecolor": "white",
             "minorgridcolor": "white",
             "startlinecolor": "#2a3f5f"
            },
            "type": "carpet"
           }
          ],
          "choropleth": [
           {
            "colorbar": {
             "outlinewidth": 0,
             "ticks": ""
            },
            "type": "choropleth"
           }
          ],
          "contour": [
           {
            "colorbar": {
             "outlinewidth": 0,
             "ticks": ""
            },
            "colorscale": [
             [
              0,
              "#0d0887"
             ],
             [
              0.1111111111111111,
              "#46039f"
             ],
             [
              0.2222222222222222,
              "#7201a8"
             ],
             [
              0.3333333333333333,
              "#9c179e"
             ],
             [
              0.4444444444444444,
              "#bd3786"
             ],
             [
              0.5555555555555556,
              "#d8576b"
             ],
             [
              0.6666666666666666,
              "#ed7953"
             ],
             [
              0.7777777777777778,
              "#fb9f3a"
             ],
             [
              0.8888888888888888,
              "#fdca26"
             ],
             [
              1,
              "#f0f921"
             ]
            ],
            "type": "contour"
           }
          ],
          "contourcarpet": [
           {
            "colorbar": {
             "outlinewidth": 0,
             "ticks": ""
            },
            "type": "contourcarpet"
           }
          ],
          "heatmap": [
           {
            "colorbar": {
             "outlinewidth": 0,
             "ticks": ""
            },
            "colorscale": [
             [
              0,
              "#0d0887"
             ],
             [
              0.1111111111111111,
              "#46039f"
             ],
             [
              0.2222222222222222,
              "#7201a8"
             ],
             [
              0.3333333333333333,
              "#9c179e"
             ],
             [
              0.4444444444444444,
              "#bd3786"
             ],
             [
              0.5555555555555556,
              "#d8576b"
             ],
             [
              0.6666666666666666,
              "#ed7953"
             ],
             [
              0.7777777777777778,
              "#fb9f3a"
             ],
             [
              0.8888888888888888,
              "#fdca26"
             ],
             [
              1,
              "#f0f921"
             ]
            ],
            "type": "heatmap"
           }
          ],
          "heatmapgl": [
           {
            "colorbar": {
             "outlinewidth": 0,
             "ticks": ""
            },
            "colorscale": [
             [
              0,
              "#0d0887"
             ],
             [
              0.1111111111111111,
              "#46039f"
             ],
             [
              0.2222222222222222,
              "#7201a8"
             ],
             [
              0.3333333333333333,
              "#9c179e"
             ],
             [
              0.4444444444444444,
              "#bd3786"
             ],
             [
              0.5555555555555556,
              "#d8576b"
             ],
             [
              0.6666666666666666,
              "#ed7953"
             ],
             [
              0.7777777777777778,
              "#fb9f3a"
             ],
             [
              0.8888888888888888,
              "#fdca26"
             ],
             [
              1,
              "#f0f921"
             ]
            ],
            "type": "heatmapgl"
           }
          ],
          "histogram": [
           {
            "marker": {
             "pattern": {
              "fillmode": "overlay",
              "size": 10,
              "solidity": 0.2
             }
            },
            "type": "histogram"
           }
          ],
          "histogram2d": [
           {
            "colorbar": {
             "outlinewidth": 0,
             "ticks": ""
            },
            "colorscale": [
             [
              0,
              "#0d0887"
             ],
             [
              0.1111111111111111,
              "#46039f"
             ],
             [
              0.2222222222222222,
              "#7201a8"
             ],
             [
              0.3333333333333333,
              "#9c179e"
             ],
             [
              0.4444444444444444,
              "#bd3786"
             ],
             [
              0.5555555555555556,
              "#d8576b"
             ],
             [
              0.6666666666666666,
              "#ed7953"
             ],
             [
              0.7777777777777778,
              "#fb9f3a"
             ],
             [
              0.8888888888888888,
              "#fdca26"
             ],
             [
              1,
              "#f0f921"
             ]
            ],
            "type": "histogram2d"
           }
          ],
          "histogram2dcontour": [
           {
            "colorbar": {
             "outlinewidth": 0,
             "ticks": ""
            },
            "colorscale": [
             [
              0,
              "#0d0887"
             ],
             [
              0.1111111111111111,
              "#46039f"
             ],
             [
              0.2222222222222222,
              "#7201a8"
             ],
             [
              0.3333333333333333,
              "#9c179e"
             ],
             [
              0.4444444444444444,
              "#bd3786"
             ],
             [
              0.5555555555555556,
              "#d8576b"
             ],
             [
              0.6666666666666666,
              "#ed7953"
             ],
             [
              0.7777777777777778,
              "#fb9f3a"
             ],
             [
              0.8888888888888888,
              "#fdca26"
             ],
             [
              1,
              "#f0f921"
             ]
            ],
            "type": "histogram2dcontour"
           }
          ],
          "mesh3d": [
           {
            "colorbar": {
             "outlinewidth": 0,
             "ticks": ""
            },
            "type": "mesh3d"
           }
          ],
          "parcoords": [
           {
            "line": {
             "colorbar": {
              "outlinewidth": 0,
              "ticks": ""
             }
            },
            "type": "parcoords"
           }
          ],
          "pie": [
           {
            "automargin": true,
            "type": "pie"
           }
          ],
          "scatter": [
           {
            "fillpattern": {
             "fillmode": "overlay",
             "size": 10,
             "solidity": 0.2
            },
            "type": "scatter"
           }
          ],
          "scatter3d": [
           {
            "line": {
             "colorbar": {
              "outlinewidth": 0,
              "ticks": ""
             }
            },
            "marker": {
             "colorbar": {
              "outlinewidth": 0,
              "ticks": ""
             }
            },
            "type": "scatter3d"
           }
          ],
          "scattercarpet": [
           {
            "marker": {
             "colorbar": {
              "outlinewidth": 0,
              "ticks": ""
             }
            },
            "type": "scattercarpet"
           }
          ],
          "scattergeo": [
           {
            "marker": {
             "colorbar": {
              "outlinewidth": 0,
              "ticks": ""
             }
            },
            "type": "scattergeo"
           }
          ],
          "scattergl": [
           {
            "marker": {
             "colorbar": {
              "outlinewidth": 0,
              "ticks": ""
             }
            },
            "type": "scattergl"
           }
          ],
          "scattermapbox": [
           {
            "marker": {
             "colorbar": {
              "outlinewidth": 0,
              "ticks": ""
             }
            },
            "type": "scattermapbox"
           }
          ],
          "scatterpolar": [
           {
            "marker": {
             "colorbar": {
              "outlinewidth": 0,
              "ticks": ""
             }
            },
            "type": "scatterpolar"
           }
          ],
          "scatterpolargl": [
           {
            "marker": {
             "colorbar": {
              "outlinewidth": 0,
              "ticks": ""
             }
            },
            "type": "scatterpolargl"
           }
          ],
          "scatterternary": [
           {
            "marker": {
             "colorbar": {
              "outlinewidth": 0,
              "ticks": ""
             }
            },
            "type": "scatterternary"
           }
          ],
          "surface": [
           {
            "colorbar": {
             "outlinewidth": 0,
             "ticks": ""
            },
            "colorscale": [
             [
              0,
              "#0d0887"
             ],
             [
              0.1111111111111111,
              "#46039f"
             ],
             [
              0.2222222222222222,
              "#7201a8"
             ],
             [
              0.3333333333333333,
              "#9c179e"
             ],
             [
              0.4444444444444444,
              "#bd3786"
             ],
             [
              0.5555555555555556,
              "#d8576b"
             ],
             [
              0.6666666666666666,
              "#ed7953"
             ],
             [
              0.7777777777777778,
              "#fb9f3a"
             ],
             [
              0.8888888888888888,
              "#fdca26"
             ],
             [
              1,
              "#f0f921"
             ]
            ],
            "type": "surface"
           }
          ],
          "table": [
           {
            "cells": {
             "fill": {
              "color": "#EBF0F8"
             },
             "line": {
              "color": "white"
             }
            },
            "header": {
             "fill": {
              "color": "#C8D4E3"
             },
             "line": {
              "color": "white"
             }
            },
            "type": "table"
           }
          ]
         },
         "layout": {
          "annotationdefaults": {
           "arrowcolor": "#2a3f5f",
           "arrowhead": 0,
           "arrowwidth": 1
          },
          "autotypenumbers": "strict",
          "coloraxis": {
           "colorbar": {
            "outlinewidth": 0,
            "ticks": ""
           }
          },
          "colorscale": {
           "diverging": [
            [
             0,
             "#8e0152"
            ],
            [
             0.1,
             "#c51b7d"
            ],
            [
             0.2,
             "#de77ae"
            ],
            [
             0.3,
             "#f1b6da"
            ],
            [
             0.4,
             "#fde0ef"
            ],
            [
             0.5,
             "#f7f7f7"
            ],
            [
             0.6,
             "#e6f5d0"
            ],
            [
             0.7,
             "#b8e186"
            ],
            [
             0.8,
             "#7fbc41"
            ],
            [
             0.9,
             "#4d9221"
            ],
            [
             1,
             "#276419"
            ]
           ],
           "sequential": [
            [
             0,
             "#0d0887"
            ],
            [
             0.1111111111111111,
             "#46039f"
            ],
            [
             0.2222222222222222,
             "#7201a8"
            ],
            [
             0.3333333333333333,
             "#9c179e"
            ],
            [
             0.4444444444444444,
             "#bd3786"
            ],
            [
             0.5555555555555556,
             "#d8576b"
            ],
            [
             0.6666666666666666,
             "#ed7953"
            ],
            [
             0.7777777777777778,
             "#fb9f3a"
            ],
            [
             0.8888888888888888,
             "#fdca26"
            ],
            [
             1,
             "#f0f921"
            ]
           ],
           "sequentialminus": [
            [
             0,
             "#0d0887"
            ],
            [
             0.1111111111111111,
             "#46039f"
            ],
            [
             0.2222222222222222,
             "#7201a8"
            ],
            [
             0.3333333333333333,
             "#9c179e"
            ],
            [
             0.4444444444444444,
             "#bd3786"
            ],
            [
             0.5555555555555556,
             "#d8576b"
            ],
            [
             0.6666666666666666,
             "#ed7953"
            ],
            [
             0.7777777777777778,
             "#fb9f3a"
            ],
            [
             0.8888888888888888,
             "#fdca26"
            ],
            [
             1,
             "#f0f921"
            ]
           ]
          },
          "colorway": [
           "#636efa",
           "#EF553B",
           "#00cc96",
           "#ab63fa",
           "#FFA15A",
           "#19d3f3",
           "#FF6692",
           "#B6E880",
           "#FF97FF",
           "#FECB52"
          ],
          "font": {
           "color": "#2a3f5f"
          },
          "geo": {
           "bgcolor": "white",
           "lakecolor": "white",
           "landcolor": "#E5ECF6",
           "showlakes": true,
           "showland": true,
           "subunitcolor": "white"
          },
          "hoverlabel": {
           "align": "left"
          },
          "hovermode": "closest",
          "mapbox": {
           "style": "light"
          },
          "paper_bgcolor": "white",
          "plot_bgcolor": "#E5ECF6",
          "polar": {
           "angularaxis": {
            "gridcolor": "white",
            "linecolor": "white",
            "ticks": ""
           },
           "bgcolor": "#E5ECF6",
           "radialaxis": {
            "gridcolor": "white",
            "linecolor": "white",
            "ticks": ""
           }
          },
          "scene": {
           "xaxis": {
            "backgroundcolor": "#E5ECF6",
            "gridcolor": "white",
            "gridwidth": 2,
            "linecolor": "white",
            "showbackground": true,
            "ticks": "",
            "zerolinecolor": "white"
           },
           "yaxis": {
            "backgroundcolor": "#E5ECF6",
            "gridcolor": "white",
            "gridwidth": 2,
            "linecolor": "white",
            "showbackground": true,
            "ticks": "",
            "zerolinecolor": "white"
           },
           "zaxis": {
            "backgroundcolor": "#E5ECF6",
            "gridcolor": "white",
            "gridwidth": 2,
            "linecolor": "white",
            "showbackground": true,
            "ticks": "",
            "zerolinecolor": "white"
           }
          },
          "shapedefaults": {
           "line": {
            "color": "#2a3f5f"
           }
          },
          "ternary": {
           "aaxis": {
            "gridcolor": "white",
            "linecolor": "white",
            "ticks": ""
           },
           "baxis": {
            "gridcolor": "white",
            "linecolor": "white",
            "ticks": ""
           },
           "bgcolor": "#E5ECF6",
           "caxis": {
            "gridcolor": "white",
            "linecolor": "white",
            "ticks": ""
           }
          },
          "title": {
           "x": 0.05
          },
          "xaxis": {
           "automargin": true,
           "gridcolor": "white",
           "linecolor": "white",
           "ticks": "",
           "title": {
            "standoff": 15
           },
           "zerolinecolor": "white",
           "zerolinewidth": 2
          },
          "yaxis": {
           "automargin": true,
           "gridcolor": "white",
           "linecolor": "white",
           "ticks": "",
           "title": {
            "standoff": 15
           },
           "zerolinecolor": "white",
           "zerolinewidth": 2
          }
         }
        },
        "title": {
         "text": "TPV throughout 2023",
         "x": 0.5
        },
        "xaxis": {
         "anchor": "y",
         "domain": [
          0,
          1
         ],
         "title": {
          "text": "Month"
         }
        },
        "yaxis": {
         "anchor": "x",
         "domain": [
          0,
          1
         ],
         "title": {
          "text": "TPV"
         }
        }
       }
      }
     },
     "metadata": {},
     "output_type": "display_data"
    }
   ],
   "source": [
    "monthly_tpv = data.groupby(['txn_month','txn_type'])['tpv'].sum().reset_index()\n",
    "monthly_tpv['txn_month'] = monthly_tpv['txn_month'].astype(str)\n",
    "\n",
    "colors = {'Pay_at_Store': '#004F80', 'Ecommerce': '#D49947', 'Bill_Payments': '#80CEFF'}\n",
    "\n",
    "fig = px.bar(monthly_tpv, \n",
    "             x='txn_month', \n",
    "             y='tpv', \n",
    "             color='txn_type',\n",
    "             color_discrete_map= colors,\n",
    "             labels={'txn_month': 'Month', 'tpv': 'TPV', 'txn_type': 'Transaction type'},\n",
    "             title='TPV throughout 2023')\n",
    "\n",
    "fig.update_layout(\n",
    "    plot_bgcolor='white',\n",
    "    paper_bgcolor='white',\n",
    "    title_x = 0.5\n",
    ")\n",
    "\n",
    "fig.show()"
   ]
  },
  {
   "cell_type": "markdown",
   "metadata": {},
   "source": [
    "### Insight 1: Dominance of In-Store Payments\n",
    "\n",
    "Throughout 2023, payments made in-store (`Pay_at_Store`) consistently account for a significant portion of the Total Payment Volume (TPV). This trend underscores the importance of physical retail locations in the digital wallet ecosystem, despite the presence of e-commerce and bill payment options.\n",
    "\n",
    "### Insight 2: The Ebb and Flow of Bill Payments\n",
    "\n",
    "The TPV associated with bill payments (`Bill_Payments`) exhibits a fluctuating pattern, with notable dips in May and October. This could indicate seasonal variability in bill-related expenses or changes in consumer payment habits during specific periods of the year."
   ]
  },
  {
   "cell_type": "markdown",
   "metadata": {},
   "source": [
    "# Analyzing transactions"
   ]
  },
  {
   "cell_type": "code",
   "execution_count": 8,
   "metadata": {},
   "outputs": [
    {
     "data": {
      "application/vnd.plotly.v1+json": {
       "config": {
        "plotlyServerURL": "https://plot.ly"
       },
       "data": [
        {
         "alignmentgroup": "True",
         "hovertemplate": "Transaction type=Bill_Payments<br>Month=%{x}<br>Total Transactions=%{y}<extra></extra>",
         "legendgroup": "Bill_Payments",
         "marker": {
          "color": "#80CEFF",
          "pattern": {
           "shape": ""
          }
         },
         "name": "Bill_Payments",
         "offsetgroup": "Bill_Payments",
         "orientation": "v",
         "showlegend": true,
         "textposition": "auto",
         "type": "bar",
         "x": [
          "2023-01",
          "2023-02",
          "2023-03",
          "2023-04",
          "2023-05",
          "2023-06",
          "2023-07",
          "2023-08",
          "2023-09",
          "2023-10",
          "2023-11",
          "2023-12"
         ],
         "xaxis": "x",
         "y": [
          1671,
          1805,
          1819,
          1841,
          1560,
          1406,
          1726,
          1756,
          1679,
          1217,
          1336,
          1471
         ],
         "yaxis": "y"
        },
        {
         "alignmentgroup": "True",
         "hovertemplate": "Transaction type=Ecommerce<br>Month=%{x}<br>Total Transactions=%{y}<extra></extra>",
         "legendgroup": "Ecommerce",
         "marker": {
          "color": "#D49947",
          "pattern": {
           "shape": ""
          }
         },
         "name": "Ecommerce",
         "offsetgroup": "Ecommerce",
         "orientation": "v",
         "showlegend": true,
         "textposition": "auto",
         "type": "bar",
         "x": [
          "2023-01",
          "2023-02",
          "2023-03",
          "2023-04",
          "2023-05",
          "2023-06",
          "2023-07",
          "2023-08",
          "2023-09",
          "2023-10",
          "2023-11",
          "2023-12"
         ],
         "xaxis": "x",
         "y": [
          1777,
          1791,
          1751,
          1780,
          1619,
          1406,
          1724,
          1723,
          1685,
          1279,
          1392,
          1494
         ],
         "yaxis": "y"
        },
        {
         "alignmentgroup": "True",
         "hovertemplate": "Transaction type=Pay_at_Store<br>Month=%{x}<br>Total Transactions=%{y}<extra></extra>",
         "legendgroup": "Pay_at_Store",
         "marker": {
          "color": "#004F80",
          "pattern": {
           "shape": ""
          }
         },
         "name": "Pay_at_Store",
         "offsetgroup": "Pay_at_Store",
         "orientation": "v",
         "showlegend": true,
         "textposition": "auto",
         "type": "bar",
         "x": [
          "2023-01",
          "2023-02",
          "2023-03",
          "2023-04",
          "2023-05",
          "2023-06",
          "2023-07",
          "2023-08",
          "2023-09",
          "2023-10",
          "2023-11",
          "2023-12"
         ],
         "xaxis": "x",
         "y": [
          1776,
          1882,
          1764,
          1792,
          1501,
          1405,
          1715,
          1741,
          1720,
          1289,
          1362,
          1547
         ],
         "yaxis": "y"
        }
       ],
       "layout": {
        "barmode": "relative",
        "legend": {
         "title": {
          "text": "Transaction type"
         },
         "tracegroupgap": 0
        },
        "paper_bgcolor": "white",
        "plot_bgcolor": "white",
        "template": {
         "data": {
          "bar": [
           {
            "error_x": {
             "color": "#2a3f5f"
            },
            "error_y": {
             "color": "#2a3f5f"
            },
            "marker": {
             "line": {
              "color": "#E5ECF6",
              "width": 0.5
             },
             "pattern": {
              "fillmode": "overlay",
              "size": 10,
              "solidity": 0.2
             }
            },
            "type": "bar"
           }
          ],
          "barpolar": [
           {
            "marker": {
             "line": {
              "color": "#E5ECF6",
              "width": 0.5
             },
             "pattern": {
              "fillmode": "overlay",
              "size": 10,
              "solidity": 0.2
             }
            },
            "type": "barpolar"
           }
          ],
          "carpet": [
           {
            "aaxis": {
             "endlinecolor": "#2a3f5f",
             "gridcolor": "white",
             "linecolor": "white",
             "minorgridcolor": "white",
             "startlinecolor": "#2a3f5f"
            },
            "baxis": {
             "endlinecolor": "#2a3f5f",
             "gridcolor": "white",
             "linecolor": "white",
             "minorgridcolor": "white",
             "startlinecolor": "#2a3f5f"
            },
            "type": "carpet"
           }
          ],
          "choropleth": [
           {
            "colorbar": {
             "outlinewidth": 0,
             "ticks": ""
            },
            "type": "choropleth"
           }
          ],
          "contour": [
           {
            "colorbar": {
             "outlinewidth": 0,
             "ticks": ""
            },
            "colorscale": [
             [
              0,
              "#0d0887"
             ],
             [
              0.1111111111111111,
              "#46039f"
             ],
             [
              0.2222222222222222,
              "#7201a8"
             ],
             [
              0.3333333333333333,
              "#9c179e"
             ],
             [
              0.4444444444444444,
              "#bd3786"
             ],
             [
              0.5555555555555556,
              "#d8576b"
             ],
             [
              0.6666666666666666,
              "#ed7953"
             ],
             [
              0.7777777777777778,
              "#fb9f3a"
             ],
             [
              0.8888888888888888,
              "#fdca26"
             ],
             [
              1,
              "#f0f921"
             ]
            ],
            "type": "contour"
           }
          ],
          "contourcarpet": [
           {
            "colorbar": {
             "outlinewidth": 0,
             "ticks": ""
            },
            "type": "contourcarpet"
           }
          ],
          "heatmap": [
           {
            "colorbar": {
             "outlinewidth": 0,
             "ticks": ""
            },
            "colorscale": [
             [
              0,
              "#0d0887"
             ],
             [
              0.1111111111111111,
              "#46039f"
             ],
             [
              0.2222222222222222,
              "#7201a8"
             ],
             [
              0.3333333333333333,
              "#9c179e"
             ],
             [
              0.4444444444444444,
              "#bd3786"
             ],
             [
              0.5555555555555556,
              "#d8576b"
             ],
             [
              0.6666666666666666,
              "#ed7953"
             ],
             [
              0.7777777777777778,
              "#fb9f3a"
             ],
             [
              0.8888888888888888,
              "#fdca26"
             ],
             [
              1,
              "#f0f921"
             ]
            ],
            "type": "heatmap"
           }
          ],
          "heatmapgl": [
           {
            "colorbar": {
             "outlinewidth": 0,
             "ticks": ""
            },
            "colorscale": [
             [
              0,
              "#0d0887"
             ],
             [
              0.1111111111111111,
              "#46039f"
             ],
             [
              0.2222222222222222,
              "#7201a8"
             ],
             [
              0.3333333333333333,
              "#9c179e"
             ],
             [
              0.4444444444444444,
              "#bd3786"
             ],
             [
              0.5555555555555556,
              "#d8576b"
             ],
             [
              0.6666666666666666,
              "#ed7953"
             ],
             [
              0.7777777777777778,
              "#fb9f3a"
             ],
             [
              0.8888888888888888,
              "#fdca26"
             ],
             [
              1,
              "#f0f921"
             ]
            ],
            "type": "heatmapgl"
           }
          ],
          "histogram": [
           {
            "marker": {
             "pattern": {
              "fillmode": "overlay",
              "size": 10,
              "solidity": 0.2
             }
            },
            "type": "histogram"
           }
          ],
          "histogram2d": [
           {
            "colorbar": {
             "outlinewidth": 0,
             "ticks": ""
            },
            "colorscale": [
             [
              0,
              "#0d0887"
             ],
             [
              0.1111111111111111,
              "#46039f"
             ],
             [
              0.2222222222222222,
              "#7201a8"
             ],
             [
              0.3333333333333333,
              "#9c179e"
             ],
             [
              0.4444444444444444,
              "#bd3786"
             ],
             [
              0.5555555555555556,
              "#d8576b"
             ],
             [
              0.6666666666666666,
              "#ed7953"
             ],
             [
              0.7777777777777778,
              "#fb9f3a"
             ],
             [
              0.8888888888888888,
              "#fdca26"
             ],
             [
              1,
              "#f0f921"
             ]
            ],
            "type": "histogram2d"
           }
          ],
          "histogram2dcontour": [
           {
            "colorbar": {
             "outlinewidth": 0,
             "ticks": ""
            },
            "colorscale": [
             [
              0,
              "#0d0887"
             ],
             [
              0.1111111111111111,
              "#46039f"
             ],
             [
              0.2222222222222222,
              "#7201a8"
             ],
             [
              0.3333333333333333,
              "#9c179e"
             ],
             [
              0.4444444444444444,
              "#bd3786"
             ],
             [
              0.5555555555555556,
              "#d8576b"
             ],
             [
              0.6666666666666666,
              "#ed7953"
             ],
             [
              0.7777777777777778,
              "#fb9f3a"
             ],
             [
              0.8888888888888888,
              "#fdca26"
             ],
             [
              1,
              "#f0f921"
             ]
            ],
            "type": "histogram2dcontour"
           }
          ],
          "mesh3d": [
           {
            "colorbar": {
             "outlinewidth": 0,
             "ticks": ""
            },
            "type": "mesh3d"
           }
          ],
          "parcoords": [
           {
            "line": {
             "colorbar": {
              "outlinewidth": 0,
              "ticks": ""
             }
            },
            "type": "parcoords"
           }
          ],
          "pie": [
           {
            "automargin": true,
            "type": "pie"
           }
          ],
          "scatter": [
           {
            "fillpattern": {
             "fillmode": "overlay",
             "size": 10,
             "solidity": 0.2
            },
            "type": "scatter"
           }
          ],
          "scatter3d": [
           {
            "line": {
             "colorbar": {
              "outlinewidth": 0,
              "ticks": ""
             }
            },
            "marker": {
             "colorbar": {
              "outlinewidth": 0,
              "ticks": ""
             }
            },
            "type": "scatter3d"
           }
          ],
          "scattercarpet": [
           {
            "marker": {
             "colorbar": {
              "outlinewidth": 0,
              "ticks": ""
             }
            },
            "type": "scattercarpet"
           }
          ],
          "scattergeo": [
           {
            "marker": {
             "colorbar": {
              "outlinewidth": 0,
              "ticks": ""
             }
            },
            "type": "scattergeo"
           }
          ],
          "scattergl": [
           {
            "marker": {
             "colorbar": {
              "outlinewidth": 0,
              "ticks": ""
             }
            },
            "type": "scattergl"
           }
          ],
          "scattermapbox": [
           {
            "marker": {
             "colorbar": {
              "outlinewidth": 0,
              "ticks": ""
             }
            },
            "type": "scattermapbox"
           }
          ],
          "scatterpolar": [
           {
            "marker": {
             "colorbar": {
              "outlinewidth": 0,
              "ticks": ""
             }
            },
            "type": "scatterpolar"
           }
          ],
          "scatterpolargl": [
           {
            "marker": {
             "colorbar": {
              "outlinewidth": 0,
              "ticks": ""
             }
            },
            "type": "scatterpolargl"
           }
          ],
          "scatterternary": [
           {
            "marker": {
             "colorbar": {
              "outlinewidth": 0,
              "ticks": ""
             }
            },
            "type": "scatterternary"
           }
          ],
          "surface": [
           {
            "colorbar": {
             "outlinewidth": 0,
             "ticks": ""
            },
            "colorscale": [
             [
              0,
              "#0d0887"
             ],
             [
              0.1111111111111111,
              "#46039f"
             ],
             [
              0.2222222222222222,
              "#7201a8"
             ],
             [
              0.3333333333333333,
              "#9c179e"
             ],
             [
              0.4444444444444444,
              "#bd3786"
             ],
             [
              0.5555555555555556,
              "#d8576b"
             ],
             [
              0.6666666666666666,
              "#ed7953"
             ],
             [
              0.7777777777777778,
              "#fb9f3a"
             ],
             [
              0.8888888888888888,
              "#fdca26"
             ],
             [
              1,
              "#f0f921"
             ]
            ],
            "type": "surface"
           }
          ],
          "table": [
           {
            "cells": {
             "fill": {
              "color": "#EBF0F8"
             },
             "line": {
              "color": "white"
             }
            },
            "header": {
             "fill": {
              "color": "#C8D4E3"
             },
             "line": {
              "color": "white"
             }
            },
            "type": "table"
           }
          ]
         },
         "layout": {
          "annotationdefaults": {
           "arrowcolor": "#2a3f5f",
           "arrowhead": 0,
           "arrowwidth": 1
          },
          "autotypenumbers": "strict",
          "coloraxis": {
           "colorbar": {
            "outlinewidth": 0,
            "ticks": ""
           }
          },
          "colorscale": {
           "diverging": [
            [
             0,
             "#8e0152"
            ],
            [
             0.1,
             "#c51b7d"
            ],
            [
             0.2,
             "#de77ae"
            ],
            [
             0.3,
             "#f1b6da"
            ],
            [
             0.4,
             "#fde0ef"
            ],
            [
             0.5,
             "#f7f7f7"
            ],
            [
             0.6,
             "#e6f5d0"
            ],
            [
             0.7,
             "#b8e186"
            ],
            [
             0.8,
             "#7fbc41"
            ],
            [
             0.9,
             "#4d9221"
            ],
            [
             1,
             "#276419"
            ]
           ],
           "sequential": [
            [
             0,
             "#0d0887"
            ],
            [
             0.1111111111111111,
             "#46039f"
            ],
            [
             0.2222222222222222,
             "#7201a8"
            ],
            [
             0.3333333333333333,
             "#9c179e"
            ],
            [
             0.4444444444444444,
             "#bd3786"
            ],
            [
             0.5555555555555556,
             "#d8576b"
            ],
            [
             0.6666666666666666,
             "#ed7953"
            ],
            [
             0.7777777777777778,
             "#fb9f3a"
            ],
            [
             0.8888888888888888,
             "#fdca26"
            ],
            [
             1,
             "#f0f921"
            ]
           ],
           "sequentialminus": [
            [
             0,
             "#0d0887"
            ],
            [
             0.1111111111111111,
             "#46039f"
            ],
            [
             0.2222222222222222,
             "#7201a8"
            ],
            [
             0.3333333333333333,
             "#9c179e"
            ],
            [
             0.4444444444444444,
             "#bd3786"
            ],
            [
             0.5555555555555556,
             "#d8576b"
            ],
            [
             0.6666666666666666,
             "#ed7953"
            ],
            [
             0.7777777777777778,
             "#fb9f3a"
            ],
            [
             0.8888888888888888,
             "#fdca26"
            ],
            [
             1,
             "#f0f921"
            ]
           ]
          },
          "colorway": [
           "#636efa",
           "#EF553B",
           "#00cc96",
           "#ab63fa",
           "#FFA15A",
           "#19d3f3",
           "#FF6692",
           "#B6E880",
           "#FF97FF",
           "#FECB52"
          ],
          "font": {
           "color": "#2a3f5f"
          },
          "geo": {
           "bgcolor": "white",
           "lakecolor": "white",
           "landcolor": "#E5ECF6",
           "showlakes": true,
           "showland": true,
           "subunitcolor": "white"
          },
          "hoverlabel": {
           "align": "left"
          },
          "hovermode": "closest",
          "mapbox": {
           "style": "light"
          },
          "paper_bgcolor": "white",
          "plot_bgcolor": "#E5ECF6",
          "polar": {
           "angularaxis": {
            "gridcolor": "white",
            "linecolor": "white",
            "ticks": ""
           },
           "bgcolor": "#E5ECF6",
           "radialaxis": {
            "gridcolor": "white",
            "linecolor": "white",
            "ticks": ""
           }
          },
          "scene": {
           "xaxis": {
            "backgroundcolor": "#E5ECF6",
            "gridcolor": "white",
            "gridwidth": 2,
            "linecolor": "white",
            "showbackground": true,
            "ticks": "",
            "zerolinecolor": "white"
           },
           "yaxis": {
            "backgroundcolor": "#E5ECF6",
            "gridcolor": "white",
            "gridwidth": 2,
            "linecolor": "white",
            "showbackground": true,
            "ticks": "",
            "zerolinecolor": "white"
           },
           "zaxis": {
            "backgroundcolor": "#E5ECF6",
            "gridcolor": "white",
            "gridwidth": 2,
            "linecolor": "white",
            "showbackground": true,
            "ticks": "",
            "zerolinecolor": "white"
           }
          },
          "shapedefaults": {
           "line": {
            "color": "#2a3f5f"
           }
          },
          "ternary": {
           "aaxis": {
            "gridcolor": "white",
            "linecolor": "white",
            "ticks": ""
           },
           "baxis": {
            "gridcolor": "white",
            "linecolor": "white",
            "ticks": ""
           },
           "bgcolor": "#E5ECF6",
           "caxis": {
            "gridcolor": "white",
            "linecolor": "white",
            "ticks": ""
           }
          },
          "title": {
           "x": 0.05
          },
          "xaxis": {
           "automargin": true,
           "gridcolor": "white",
           "linecolor": "white",
           "ticks": "",
           "title": {
            "standoff": 15
           },
           "zerolinecolor": "white",
           "zerolinewidth": 2
          },
          "yaxis": {
           "automargin": true,
           "gridcolor": "white",
           "linecolor": "white",
           "ticks": "",
           "title": {
            "standoff": 15
           },
           "zerolinecolor": "white",
           "zerolinewidth": 2
          }
         }
        },
        "title": {
         "text": "Transactions throughout 2023",
         "x": 0.5
        },
        "xaxis": {
         "anchor": "y",
         "domain": [
          0,
          1
         ],
         "title": {
          "text": "Month"
         }
        },
        "yaxis": {
         "anchor": "x",
         "domain": [
          0,
          1
         ],
         "title": {
          "text": "Total Transactions"
         }
        }
       }
      }
     },
     "metadata": {},
     "output_type": "display_data"
    }
   ],
   "source": [
    "monthly_txns = data.groupby(['txn_month','txn_type'])['txn_ID'].nunique().reset_index()\n",
    "monthly_txns['txn_month'] = monthly_txns['txn_month'].astype(str)\n",
    "\n",
    "colors = {'Pay_at_Store': '#004F80', 'Ecommerce': '#D49947', 'Bill_Payments': '#80CEFF'}\n",
    "\n",
    "fig = px.bar(monthly_txns, \n",
    "             x='txn_month', \n",
    "             y='txn_ID', \n",
    "             color='txn_type',\n",
    "             color_discrete_map= colors,\n",
    "             labels={'txn_month': 'Month', 'txn_ID': 'Total Transactions', 'txn_type': 'Transaction type'},\n",
    "             title='Transactions throughout 2023')\n",
    "\n",
    "fig.update_layout(\n",
    "    plot_bgcolor='white',\n",
    "    paper_bgcolor='white',\n",
    "    title_x = 0.5\n",
    ")\n",
    "\n",
    "fig.show()"
   ]
  },
  {
   "cell_type": "markdown",
   "metadata": {},
   "source": [
    "### Insight 1: Consistent Performance Across Transaction Types\n",
    "\n",
    "In 2023, each transaction type (Bill_Payments, Ecommerce, Pay_at_Store) shows a consistent level of transactions month over month, with no single category dominating consistently. This indicates a balanced use case for the digital wallet, which serves diverse consumer needs equally well.\n",
    "\n",
    "### Insight 2: Slight Variability in Ecommerce Transactions\n",
    "\n",
    "While the overall trend shows consistency, Ecommerce transactions display slight variability with a notable dip in June and a peak in October. This could reflect changes in consumer online shopping behavior or promotional periods that drive more online sales.\n"
   ]
  },
  {
   "cell_type": "markdown",
   "metadata": {},
   "source": [
    "# What is the behaviour of my ideal customer?"
   ]
  },
  {
   "cell_type": "code",
   "execution_count": 9,
   "metadata": {},
   "outputs": [
    {
     "data": {
      "application/vnd.plotly.v1+json": {
       "config": {
        "plotlyServerURL": "https://plot.ly"
       },
       "data": [
        {
         "alignmentgroup": "True",
         "hovertemplate": "txn_ID=%{x}<extra></extra>",
         "legendgroup": "",
         "marker": {
          "color": "#636efa"
         },
         "name": "",
         "notched": false,
         "offsetgroup": "",
         "orientation": "h",
         "showlegend": false,
         "type": "box",
         "x": [
          39,
          5,
          10,
          7,
          26,
          5,
          10,
          5,
          7,
          8,
          11,
          27,
          9,
          9,
          33,
          2,
          5,
          41,
          2,
          19,
          13,
          3,
          1,
          12,
          14,
          26,
          25,
          5,
          6,
          27,
          24,
          18,
          19,
          13,
          40,
          10,
          7,
          21,
          2,
          16,
          12,
          2,
          7,
          8,
          4,
          5,
          12,
          39,
          6,
          16,
          13,
          16,
          34,
          5,
          13,
          12,
          3,
          19,
          35,
          1,
          36,
          19,
          7,
          7,
          9,
          5,
          8,
          24,
          9,
          1,
          2,
          10,
          1,
          13,
          13,
          8,
          3,
          3,
          14,
          11,
          6,
          21,
          45,
          15,
          14,
          18,
          30,
          7,
          15,
          9,
          2,
          8,
          5,
          15,
          1,
          1,
          35,
          22,
          5,
          10,
          2,
          2,
          15,
          2,
          11,
          24,
          2,
          9,
          4,
          7,
          12,
          17,
          29,
          37,
          35,
          4,
          7,
          8,
          5,
          2,
          30,
          11,
          11,
          7,
          16,
          18,
          9,
          1,
          6,
          4,
          27,
          8,
          16,
          20,
          2,
          1,
          9,
          2,
          21,
          32,
          17,
          9,
          17,
          1,
          11,
          19,
          13,
          12,
          30,
          8,
          2,
          6,
          2,
          12,
          1,
          12,
          8,
          8,
          15,
          13,
          6,
          11,
          18,
          28,
          21,
          6,
          5,
          8,
          44,
          5,
          12,
          7,
          2,
          6,
          15,
          6,
          35,
          13,
          18,
          8,
          1,
          4,
          7,
          10,
          33,
          7,
          38,
          27,
          11,
          3,
          12,
          5,
          12,
          4,
          27,
          4,
          15,
          13,
          3,
          8,
          2,
          44,
          5,
          9,
          26,
          7,
          37,
          3,
          29,
          2,
          1,
          12,
          32,
          44,
          21,
          1,
          13,
          46,
          18,
          18,
          35,
          7,
          10,
          35,
          25,
          20,
          3,
          9,
          15,
          12,
          24,
          5,
          30,
          21,
          5,
          1,
          45,
          20,
          2,
          8,
          2,
          5,
          7,
          4,
          5,
          32,
          6,
          5,
          10,
          15,
          5,
          7,
          2,
          4,
          10,
          10,
          46,
          4,
          25,
          6,
          7,
          3,
          4,
          8,
          10,
          6,
          22,
          29,
          12,
          16,
          15,
          5,
          25,
          10,
          6,
          2,
          5,
          12,
          18,
          22,
          1,
          1,
          15,
          22,
          11,
          4,
          7,
          16,
          7,
          1,
          4,
          2,
          2,
          2,
          17,
          19,
          6,
          38,
          19,
          11,
          14,
          2,
          2,
          2,
          6,
          4,
          14,
          2,
          2,
          34,
          43,
          16,
          9,
          5,
          22,
          3,
          38,
          28,
          3,
          3,
          23,
          38,
          8,
          8,
          7,
          26,
          6,
          17,
          11,
          4,
          16,
          1,
          3,
          7,
          11,
          8,
          10,
          9,
          3,
          8,
          2,
          17,
          13,
          9,
          4,
          30,
          31,
          24,
          4,
          19,
          7,
          24,
          16,
          15,
          10,
          5,
          15,
          27,
          42,
          25,
          24,
          10,
          19,
          2,
          35,
          4,
          32,
          10,
          8,
          23,
          3,
          6,
          3,
          21,
          6,
          9,
          13,
          29,
          1,
          6,
          15,
          4,
          15,
          8,
          8,
          12,
          17,
          4,
          9,
          14,
          7,
          2,
          4,
          49,
          5,
          5,
          1,
          11,
          27,
          16,
          9,
          35,
          17,
          38,
          3,
          26,
          15,
          45,
          21,
          8,
          5,
          7,
          45,
          7,
          1,
          19,
          3,
          10,
          26,
          7,
          2,
          4,
          6,
          14,
          13,
          41,
          7,
          2,
          5,
          23,
          3,
          10,
          2,
          5,
          11,
          6,
          7,
          3,
          5,
          10,
          4,
          4,
          2,
          26,
          22,
          17,
          6,
          1,
          2,
          3,
          15,
          7,
          16,
          19,
          20,
          34,
          13,
          34,
          3,
          2,
          10,
          6,
          3,
          39,
          15,
          30,
          37,
          10,
          12,
          6,
          3,
          34,
          21,
          23,
          16,
          3,
          15,
          26,
          1,
          2,
          37,
          4,
          9,
          12,
          10,
          5,
          1,
          10,
          13,
          21,
          12,
          8,
          3,
          29,
          2,
          7,
          9,
          28,
          25,
          3,
          6,
          2,
          25,
          22,
          3,
          1,
          6,
          30,
          8,
          1,
          10,
          5,
          31,
          15,
          5,
          2,
          11,
          17,
          25,
          29,
          12,
          30,
          38,
          2,
          36,
          11,
          15,
          29,
          2,
          8,
          4,
          5,
          8,
          9,
          6,
          13,
          17,
          11,
          6,
          11,
          23,
          20,
          1,
          12,
          3,
          12,
          1,
          12,
          2,
          26,
          2,
          2,
          8,
          13,
          25,
          2,
          1,
          4,
          10,
          4,
          26,
          17,
          9,
          9,
          4,
          29,
          11,
          8,
          6,
          13,
          18,
          5,
          5,
          19,
          1,
          1,
          12,
          4,
          2,
          2,
          1,
          7,
          4,
          8,
          11,
          16,
          15,
          7,
          1,
          10,
          17,
          21,
          4,
          9,
          4,
          2,
          12,
          21,
          31,
          3,
          30,
          40,
          1,
          37,
          18,
          13,
          40,
          20,
          36,
          38,
          21,
          14,
          7,
          2,
          4,
          11,
          18,
          13,
          19,
          3,
          41,
          30,
          2,
          11,
          2,
          3,
          7,
          22,
          40,
          5,
          5,
          28,
          3,
          20,
          6,
          13,
          8,
          19,
          4,
          3,
          26,
          19,
          12,
          25,
          24,
          14,
          18,
          10,
          27,
          30,
          4,
          2,
          31,
          9,
          35,
          10,
          8,
          6,
          1,
          32,
          6,
          10,
          6,
          16,
          4,
          13,
          4,
          20,
          22,
          12,
          15,
          7,
          21,
          5,
          5,
          13,
          24,
          13,
          12,
          4,
          11,
          9,
          5,
          12,
          12,
          26,
          2,
          14,
          30,
          13,
          4,
          7,
          9,
          22,
          12,
          11,
          39,
          3,
          7,
          16,
          2,
          4,
          14,
          2,
          34,
          4,
          3,
          9,
          18,
          10,
          3,
          6,
          34,
          7,
          12,
          6,
          3,
          12,
          12,
          7,
          29,
          17,
          19,
          9,
          4,
          8,
          21,
          12,
          7,
          12,
          15,
          20,
          10,
          17,
          9,
          37,
          5,
          5,
          16,
          27,
          36,
          5,
          18,
          15,
          13,
          29,
          21,
          5,
          5,
          9,
          3,
          2,
          1,
          4,
          28,
          11,
          2,
          16,
          12,
          23,
          18,
          3,
          9,
          1,
          20,
          2,
          7,
          6,
          11,
          11,
          3,
          6,
          19,
          4,
          2,
          23,
          5,
          10,
          34,
          19,
          24,
          7,
          36,
          2,
          3,
          23,
          1,
          28,
          1,
          9,
          14,
          3,
          5,
          22,
          8,
          1,
          3,
          42,
          32,
          9,
          24,
          6,
          4,
          6,
          11,
          12,
          10,
          5,
          5,
          45,
          22,
          4,
          10,
          2,
          39,
          35,
          5,
          3,
          7,
          18,
          34,
          12,
          3,
          19,
          32,
          12,
          5,
          1,
          3,
          5,
          1,
          6,
          8,
          6,
          28,
          9,
          5,
          5,
          38,
          23,
          7,
          14,
          30,
          21,
          29,
          8,
          21,
          10,
          12,
          3,
          10,
          30,
          6,
          7,
          3,
          4,
          14,
          3,
          12,
          12,
          25,
          3,
          33,
          2,
          9,
          25,
          18,
          5,
          7,
          3,
          2,
          14,
          32,
          27,
          6,
          6,
          13,
          12,
          16,
          7,
          1,
          20,
          12,
          8,
          5,
          7,
          29,
          10,
          2,
          4,
          17,
          4,
          7,
          35,
          1,
          19,
          28,
          7,
          5,
          17,
          23,
          7,
          3,
          12,
          4,
          10,
          2,
          29,
          27,
          2,
          3,
          42,
          20,
          15,
          10,
          8,
          20,
          5,
          21,
          2,
          11,
          4,
          31,
          9,
          2,
          8,
          29,
          4,
          15,
          10,
          12,
          1,
          15,
          15,
          3,
          13,
          10,
          13,
          26,
          18,
          37,
          28,
          4,
          20,
          11,
          4,
          31,
          11,
          3,
          19,
          5,
          9,
          3,
          14,
          23,
          26,
          9,
          4,
          34,
          8,
          4,
          14,
          3,
          14,
          16,
          14,
          41,
          17,
          19,
          35,
          2,
          2,
          19,
          11,
          10,
          13,
          7,
          10,
          22,
          3,
          4,
          2,
          34,
          3,
          5,
          8,
          17,
          8,
          47,
          5,
          8,
          12,
          16,
          13,
          6,
          23,
          17,
          40,
          1,
          1,
          3,
          12,
          8,
          23,
          1,
          35,
          4,
          4,
          5,
          16,
          4,
          28,
          20,
          38,
          3,
          44,
          25,
          32,
          3,
          6,
          33,
          6,
          36,
          36,
          23,
          17,
          16,
          35,
          10,
          29,
          29,
          12,
          6,
          18,
          15,
          23,
          9,
          5,
          15,
          1,
          16,
          29,
          11,
          12,
          10,
          4,
          10,
          9,
          4,
          7,
          11,
          14,
          2,
          16,
          34,
          2,
          21,
          1,
          28,
          7,
          3,
          22,
          31,
          6,
          10,
          12,
          3,
          2,
          20,
          1,
          2,
          10,
          10,
          7,
          36,
          6,
          16,
          5,
          10,
          22,
          8,
          25,
          27,
          19,
          18,
          8,
          4,
          12,
          29,
          1,
          10,
          7,
          10,
          2,
          6,
          6,
          5,
          16,
          13,
          40,
          2,
          5,
          43,
          11,
          9,
          22,
          40,
          9,
          2,
          28,
          20,
          13,
          38,
          6,
          16,
          15,
          9,
          5,
          6,
          6,
          2,
          30,
          14,
          31,
          10,
          20,
          14,
          1,
          8,
          2,
          18,
          20,
          20,
          12,
          10,
          42,
          2,
          6,
          15,
          1,
          2,
          11,
          15,
          5,
          22,
          19,
          1,
          1,
          2,
          16,
          3,
          30,
          2,
          40,
          15,
          11,
          3,
          22,
          10,
          2,
          1,
          9,
          26,
          23,
          13,
          7,
          25,
          23,
          10,
          2,
          26,
          33,
          9,
          11,
          28,
          9,
          2,
          34,
          2,
          23,
          44,
          2,
          34,
          9,
          18,
          6,
          7,
          16,
          4,
          7,
          40,
          10,
          18,
          40,
          16,
          8,
          24,
          21,
          31,
          16,
          1,
          3,
          11,
          11,
          18,
          25,
          4,
          3,
          7,
          27,
          4,
          23,
          6,
          19,
          9,
          3,
          15,
          1,
          19,
          24,
          8,
          31,
          30,
          7,
          4,
          2,
          8,
          1,
          6,
          11,
          2,
          4,
          10,
          11,
          1,
          7,
          19,
          9,
          16,
          2,
          27,
          14,
          14,
          30,
          8,
          2,
          3,
          14,
          15,
          5,
          1,
          6,
          8,
          6,
          8,
          36,
          3,
          17,
          15,
          20,
          2,
          3,
          12,
          14,
          5,
          27,
          6,
          23,
          15,
          39,
          5,
          20,
          5,
          20,
          5,
          29,
          1,
          28,
          13,
          8,
          7,
          26,
          4,
          2,
          9,
          3,
          3,
          9,
          7,
          31,
          16,
          14,
          1,
          41,
          1,
          1,
          12,
          18,
          33,
          11,
          12,
          3,
          14,
          3,
          35,
          16,
          6,
          5,
          10,
          9,
          16,
          7,
          7,
          16,
          24,
          12,
          9,
          7,
          3,
          7,
          15,
          8,
          3,
          2,
          21,
          3,
          7,
          3,
          15,
          24,
          3,
          32,
          8,
          41,
          9,
          5,
          6,
          3,
          6,
          7,
          24,
          19,
          5,
          27,
          5,
          7,
          3,
          7,
          3,
          2,
          9,
          2,
          4,
          6,
          29,
          29,
          11,
          5,
          22,
          3,
          11,
          23,
          12,
          33,
          4,
          22,
          10,
          3,
          23,
          1,
          27,
          14,
          41,
          3,
          42,
          11,
          48,
          2,
          11,
          39,
          4,
          40,
          37,
          18,
          17,
          9,
          37,
          6,
          6,
          8,
          1,
          11,
          16,
          15,
          4,
          7,
          3,
          15,
          2,
          21,
          4,
          1,
          12,
          22,
          19,
          17,
          19,
          2,
          13,
          5,
          13,
          7,
          11,
          23,
          8,
          26,
          5,
          8,
          3,
          14,
          24,
          23,
          14,
          1,
          8,
          8,
          1,
          5,
          2,
          13,
          3,
          18,
          2,
          13,
          44,
          10,
          14,
          13,
          14,
          26,
          4,
          6,
          1,
          5,
          39,
          6,
          34,
          12,
          13,
          3,
          21,
          10,
          3,
          5,
          18,
          17,
          3,
          8,
          1,
          2,
          30,
          6,
          20,
          3,
          3,
          12,
          6,
          36,
          7,
          6,
          34,
          16,
          12,
          26,
          6,
          22,
          4,
          13,
          12,
          5,
          8,
          32,
          10,
          8,
          2,
          17,
          10,
          14,
          19,
          48,
          17,
          10,
          21,
          9,
          3,
          18,
          27,
          5,
          34,
          35,
          2,
          6,
          50,
          18,
          35,
          26,
          3,
          37,
          12,
          5,
          21,
          17,
          14,
          4,
          5,
          20,
          12,
          17,
          4,
          1,
          7,
          25,
          19,
          18,
          1,
          32,
          33,
          15,
          21,
          4,
          6,
          5,
          16,
          3,
          4,
          23,
          9,
          17,
          15,
          31,
          7,
          6,
          11,
          9,
          4,
          36,
          5,
          33,
          3,
          22,
          15,
          5,
          3,
          1,
          3,
          10,
          16,
          12,
          23,
          15,
          11,
          5,
          39,
          27,
          7,
          3,
          24,
          1,
          12,
          23,
          17,
          27,
          30,
          10,
          9,
          16,
          13,
          17,
          9,
          13,
          7,
          12,
          10,
          10,
          12,
          22,
          11,
          18,
          13,
          11,
          24,
          13,
          16,
          34,
          6,
          18,
          6,
          5,
          22,
          34,
          28,
          2,
          25,
          6,
          27,
          8,
          7,
          13,
          31,
          40,
          11,
          2,
          3,
          12,
          31,
          22,
          5,
          4,
          11,
          13,
          13,
          8,
          12,
          20,
          17,
          25,
          35,
          3,
          3,
          15,
          6,
          3,
          15,
          8,
          17,
          2,
          9,
          14,
          19,
          26,
          2,
          5,
          21,
          5,
          1,
          36,
          11,
          7,
          8,
          5,
          21,
          5,
          5,
          15,
          4,
          3,
          36,
          34,
          4,
          6,
          4,
          23,
          3,
          25,
          39,
          10,
          9,
          3,
          23,
          3,
          38,
          1,
          18,
          2,
          19,
          8,
          31,
          36,
          18,
          2,
          28,
          1,
          2,
          21,
          26,
          16,
          2,
          4,
          11,
          20,
          3,
          11,
          14,
          4,
          8,
          4,
          16,
          26,
          10,
          5,
          35,
          19,
          2,
          20,
          4,
          5,
          5,
          19,
          10,
          16,
          8,
          3,
          3,
          2,
          4,
          5,
          4,
          39,
          4,
          13,
          3,
          11,
          2,
          32,
          4,
          27,
          4,
          26,
          9,
          12,
          38,
          20,
          15,
          10,
          5,
          1,
          2,
          17,
          14,
          25,
          1,
          39,
          34,
          14,
          39,
          6,
          6,
          13,
          3,
          22,
          8,
          2,
          9,
          17,
          6,
          14,
          6,
          8,
          3,
          11,
          26,
          41,
          31,
          16,
          38,
          1,
          21,
          24,
          14,
          19,
          36,
          2,
          22,
          10,
          2,
          28,
          38,
          22,
          5,
          9,
          6,
          27,
          23,
          6,
          9,
          27,
          2,
          29,
          17,
          11,
          6,
          34,
          19,
          16,
          13,
          10,
          32,
          13,
          2,
          38,
          15,
          7,
          28,
          23,
          13,
          22,
          11,
          16,
          9,
          3,
          27,
          6,
          17,
          22,
          6,
          19,
          11,
          15,
          12,
          17,
          10,
          11,
          7,
          4,
          28,
          19,
          4,
          19,
          8,
          3,
          8,
          42,
          16,
          4,
          21,
          15,
          22,
          8,
          8,
          5,
          2,
          20,
          2,
          22,
          17,
          19,
          6,
          3,
          24,
          36,
          1,
          5,
          19,
          7,
          12,
          7,
          7,
          6,
          2,
          7,
          22,
          39,
          3,
          7,
          5,
          2,
          3,
          8,
          2,
          16,
          8,
          17,
          44,
          7,
          1,
          11,
          14,
          4,
          2,
          19,
          10,
          2,
          30,
          7,
          5,
          1,
          35,
          9,
          12,
          13,
          2,
          11,
          2,
          12,
          21,
          4,
          4,
          7,
          20,
          11,
          9,
          3,
          1,
          29,
          28,
          18,
          15,
          10,
          40,
          21,
          10,
          31,
          9,
          28,
          5,
          5,
          8,
          27,
          13,
          1,
          17,
          14,
          2,
          12,
          24,
          10,
          8,
          10,
          4,
          3,
          22,
          9,
          11,
          14,
          3,
          11,
          7,
          24,
          13,
          2,
          1,
          2,
          11,
          17,
          8,
          16,
          13,
          25,
          6,
          7,
          19,
          6,
          1,
          3,
          27,
          38,
          10,
          2,
          19,
          16,
          10,
          1,
          9,
          2,
          14,
          4,
          6,
          7,
          6,
          9,
          7,
          10,
          5,
          1,
          41,
          9,
          4,
          9,
          16,
          2,
          7,
          27,
          1,
          13,
          4,
          40,
          34,
          27,
          1,
          2,
          11,
          4,
          3,
          4,
          36,
          12,
          8,
          37,
          15,
          19,
          29,
          2,
          18,
          21,
          15,
          31,
          12,
          9,
          5,
          5,
          4,
          7,
          6,
          14,
          43,
          20,
          19,
          23,
          28,
          3,
          5,
          1,
          5,
          1,
          4,
          6,
          13,
          14,
          10,
          8,
          3,
          6,
          5,
          8,
          11,
          2,
          1,
          16,
          20,
          5,
          12,
          36,
          7,
          18,
          10,
          8,
          7,
          13,
          5,
          23,
          2,
          3,
          5,
          5,
          31,
          2,
          38,
          12,
          1,
          12,
          1,
          8,
          5,
          5,
          42,
          42,
          45,
          2,
          15,
          3,
          6,
          14,
          13,
          11,
          6,
          5,
          1,
          4,
          9,
          12,
          30,
          20,
          10,
          14,
          30,
          31,
          15,
          3,
          4,
          10,
          3,
          7,
          7,
          10,
          14,
          8,
          1,
          15,
          34,
          2,
          11,
          28,
          6,
          10,
          3,
          8,
          26,
          13,
          9,
          25,
          14,
          38,
          10,
          3,
          3,
          12,
          13,
          14,
          4,
          5,
          14,
          4,
          34,
          1,
          10,
          27,
          1,
          26,
          7,
          6,
          15,
          9,
          4,
          9,
          22,
          13,
          16,
          26,
          9,
          14,
          14,
          6,
          19,
          40,
          5,
          2,
          3,
          5,
          2,
          3,
          4,
          12,
          9,
          24,
          4,
          8,
          18,
          5,
          17,
          4,
          1,
          8,
          5,
          3,
          1,
          17,
          16,
          22,
          8,
          45,
          22,
          29,
          18,
          5,
          8,
          7,
          10,
          1,
          19,
          31,
          17,
          19,
          4,
          5,
          2,
          7,
          8,
          16,
          13,
          9,
          5,
          5,
          16,
          37,
          36,
          20,
          37,
          2,
          3,
          1,
          35,
          1,
          9,
          5,
          12,
          14,
          7,
          15,
          2,
          4,
          6,
          32,
          3,
          3,
          40,
          13,
          3,
          9,
          25,
          3,
          6,
          29,
          4,
          1,
          10,
          24,
          5,
          32,
          4,
          14,
          5,
          1,
          4,
          4,
          3,
          12,
          3,
          13,
          6,
          7,
          4,
          5,
          2,
          19,
          15,
          31,
          2,
          19,
          4,
          28,
          5,
          2,
          22,
          6,
          3,
          3,
          5,
          23,
          3,
          6,
          6,
          1,
          2,
          13,
          12,
          8,
          2,
          5,
          8,
          29,
          5,
          6,
          7,
          18,
          27,
          14,
          1,
          2,
          6,
          6,
          2,
          3,
          7,
          3,
          5,
          3,
          10,
          41,
          7,
          22,
          8,
          1,
          8,
          8,
          4,
          8,
          20,
          15,
          6,
          41,
          9,
          40,
          5,
          1,
          5,
          1,
          5,
          3,
          2,
          16,
          15,
          22,
          7,
          5,
          4,
          10,
          1,
          12,
          10,
          6,
          10,
          2,
          12,
          23,
          13,
          9,
          23,
          9,
          14,
          1,
          13,
          6,
          6,
          27,
          5,
          38,
          38,
          3,
          11,
          13,
          15,
          17,
          32,
          10,
          33,
          11,
          32,
          1,
          9,
          26,
          1,
          11,
          35,
          18,
          17,
          6,
          18,
          1,
          5,
          11,
          41,
          33,
          5,
          19,
          16,
          5,
          7,
          8,
          26,
          5,
          32,
          6,
          11,
          13,
          24,
          2,
          1,
          1,
          4,
          12,
          1,
          1,
          13,
          8,
          6,
          33,
          5,
          6,
          12,
          15,
          13,
          4,
          1,
          13,
          9,
          12,
          3,
          3,
          11,
          6,
          5,
          1,
          8,
          14,
          26,
          6,
          34,
          9,
          14,
          2,
          9,
          42,
          8,
          7,
          10,
          10,
          3,
          18,
          12,
          1,
          11,
          12,
          6,
          2,
          1,
          3,
          8,
          5,
          8,
          13,
          20,
          1,
          15,
          11,
          5,
          6,
          19,
          3,
          21,
          16,
          10,
          17,
          13,
          24,
          3,
          14,
          35,
          1,
          11,
          12,
          1,
          3,
          12,
          5,
          6,
          3,
          2,
          9,
          12,
          7,
          6,
          5,
          24,
          19,
          18,
          1,
          8,
          7,
          40,
          31,
          1,
          18,
          3,
          9,
          1,
          2,
          7,
          20,
          1,
          14,
          3,
          16,
          12,
          13,
          27,
          8,
          8,
          2,
          35,
          7,
          15,
          33,
          34,
          10,
          24,
          5,
          1,
          5,
          13,
          37,
          13,
          4,
          1,
          4,
          3,
          11,
          28,
          26,
          4,
          32,
          9,
          13,
          16,
          20,
          1,
          13,
          12,
          7,
          3,
          33,
          8,
          28,
          16,
          10,
          2,
          13,
          7,
          3,
          7,
          3,
          10,
          8,
          33,
          16,
          5,
          1,
          8,
          2,
          5,
          10,
          9,
          15,
          1,
          4,
          13,
          3,
          9,
          20,
          2,
          4,
          37,
          6,
          4,
          38,
          17,
          5,
          2,
          45,
          8,
          3,
          10,
          6,
          8,
          8,
          14,
          5,
          6,
          23,
          9,
          36,
          13,
          2,
          4,
          2,
          18,
          5,
          2,
          28,
          13,
          5,
          7,
          13,
          2,
          17,
          8,
          35,
          4,
          8,
          23,
          15,
          1,
          27,
          4,
          17,
          4,
          2,
          2,
          5,
          7,
          42,
          29,
          23,
          16,
          10,
          3,
          18,
          21,
          8,
          14,
          28,
          8,
          1,
          16,
          6,
          7,
          2,
          34,
          20,
          11,
          5,
          6,
          6,
          4,
          12,
          19,
          23,
          6,
          13,
          2,
          4,
          12,
          3,
          20,
          28,
          18,
          10,
          25,
          5,
          6,
          17,
          2,
          20,
          7,
          13,
          3,
          37,
          5,
          5,
          4,
          19,
          14,
          11,
          37,
          18,
          19,
          1,
          18,
          1,
          6,
          4,
          12,
          10,
          4,
          21,
          8,
          1,
          6,
          11,
          14,
          17,
          38,
          9,
          2,
          1,
          10,
          42,
          21,
          21,
          19,
          6,
          24,
          3,
          12,
          26,
          21,
          6,
          35,
          21,
          8,
          19,
          1,
          7,
          9,
          36,
          10,
          8,
          3,
          14,
          2,
          6,
          1,
          22,
          4,
          11,
          19,
          19,
          6,
          7,
          14,
          6,
          24,
          8,
          12,
          7,
          4,
          19,
          18,
          14,
          2,
          1,
          25,
          4,
          14,
          5,
          22,
          5,
          11,
          23,
          3,
          1,
          13,
          20,
          4,
          1,
          13,
          32,
          15,
          4,
          10,
          3,
          15,
          29,
          2,
          8,
          35,
          19,
          16,
          23,
          11,
          3,
          29,
          3,
          6,
          8,
          23,
          22,
          5,
          26,
          41,
          18,
          9,
          13,
          6,
          10,
          22,
          14,
          18,
          5,
          5,
          18,
          7,
          35,
          12,
          12,
          4,
          40,
          5,
          20,
          3,
          3,
          38,
          21,
          5,
          5,
          3,
          4,
          12,
          6,
          11,
          17,
          37,
          12,
          10,
          12,
          8,
          28,
          20,
          1,
          36,
          2,
          17,
          10,
          8,
          7,
          4,
          3,
          7,
          7,
          6,
          3,
          20,
          11,
          5,
          26,
          4,
          3,
          17,
          23,
          37,
          1,
          6,
          9,
          10,
          6,
          21,
          24,
          6,
          13,
          8,
          4,
          5,
          3,
          1,
          35,
          2,
          1,
          42,
          30,
          12,
          5,
          28,
          10,
          1,
          12,
          15,
          5,
          40,
          4,
          21,
          11,
          6,
          28,
          37,
          1,
          26,
          3,
          6,
          8,
          6,
          10,
          33,
          9,
          7,
          19,
          12,
          7,
          46,
          40,
          8,
          3,
          10,
          2,
          36,
          32,
          29,
          5,
          17,
          9,
          7,
          21,
          2,
          34,
          6,
          40,
          4,
          19,
          14,
          16,
          14,
          14,
          1,
          3,
          10,
          17,
          11,
          6,
          2,
          1,
          2,
          2,
          5,
          28,
          3,
          10,
          9,
          29,
          11,
          28,
          4,
          5,
          9,
          4,
          9,
          8,
          21,
          28,
          3,
          33,
          35,
          19,
          24,
          9,
          10,
          3,
          4,
          36,
          3,
          16,
          15,
          10,
          7,
          16,
          4,
          7,
          19,
          6,
          5,
          12,
          12,
          9,
          20,
          6,
          1,
          13,
          7,
          3,
          30,
          16,
          13,
          21,
          32,
          44,
          15,
          4,
          32,
          7,
          18,
          2,
          4,
          12,
          6,
          2,
          2,
          35,
          1,
          39,
          19,
          8,
          2,
          3,
          14,
          12,
          8,
          11,
          6,
          25,
          8,
          9,
          2,
          1,
          6,
          2,
          9,
          27,
          6,
          7,
          9,
          3,
          19,
          22,
          49,
          21,
          1,
          13,
          23,
          9,
          12,
          35,
          22,
          25,
          15,
          4,
          1,
          10,
          2,
          1,
          7,
          12,
          38,
          2,
          1,
          10,
          24,
          8,
          28,
          9,
          7,
          11,
          3,
          28,
          16,
          30,
          37,
          30,
          25,
          2,
          7,
          22,
          7,
          14,
          8,
          8,
          3,
          13,
          5,
          9,
          22,
          21,
          1,
          3,
          33,
          39,
          12,
          1,
          17,
          41,
          7,
          9,
          10,
          11,
          16,
          14,
          1,
          5,
          3,
          25,
          5,
          35,
          18,
          25,
          9,
          23,
          6,
          22,
          20,
          9,
          6,
          1,
          3,
          13,
          5,
          6,
          14,
          19,
          10,
          22,
          20,
          15,
          7,
          13,
          9,
          11,
          9,
          25,
          9,
          19,
          16,
          43,
          7,
          10,
          5,
          19,
          7,
          1,
          13,
          39,
          3,
          6,
          46,
          46,
          13,
          6,
          4,
          11,
          7,
          6,
          15,
          13,
          5,
          3,
          10,
          7,
          14,
          18,
          22,
          11,
          1,
          17,
          26,
          11,
          13,
          1,
          21,
          3,
          16,
          1,
          9,
          31,
          10,
          32,
          6,
          9,
          2,
          7,
          1,
          3,
          9,
          10,
          14,
          13,
          23,
          29,
          18,
          26,
          5,
          6,
          33,
          1,
          13,
          11,
          7,
          21,
          2,
          19,
          8,
          3,
          2,
          14,
          34,
          4,
          9,
          4,
          4,
          33,
          3,
          12,
          32,
          6,
          7,
          1,
          1,
          16,
          27,
          33,
          1,
          4,
          2,
          9,
          6,
          4,
          36,
          2,
          36,
          7,
          32,
          26,
          8,
          5,
          7,
          22,
          36,
          23,
          40,
          21,
          4,
          10,
          9,
          42,
          35,
          7,
          4,
          15,
          22,
          7,
          22,
          4,
          6,
          2,
          10,
          8,
          2,
          1,
          8,
          14,
          11,
          3,
          10,
          5,
          24,
          26,
          19,
          6,
          8,
          4,
          30,
          7,
          5,
          3,
          11,
          1,
          3,
          27,
          7,
          8,
          5,
          7,
          10,
          9,
          34,
          47,
          4,
          30,
          25,
          14,
          20,
          1,
          23,
          6,
          12,
          18,
          21,
          5,
          5,
          22,
          5,
          2,
          21,
          17,
          24,
          22,
          3,
          23,
          5,
          14,
          17,
          3,
          32,
          8,
          20,
          7,
          37,
          28,
          6,
          1,
          23,
          7,
          28,
          36,
          3,
          3,
          1,
          21,
          9,
          27,
          6,
          12,
          30,
          17,
          1,
          22,
          9,
          37,
          7,
          7,
          8,
          17,
          1,
          8,
          17,
          6,
          13,
          29,
          25,
          41,
          2,
          11,
          13,
          15,
          39,
          3,
          17,
          46,
          12,
          18,
          32,
          3,
          30,
          28,
          4,
          6,
          8,
          2,
          1,
          11,
          7,
          1,
          21,
          2,
          36,
          3,
          11,
          11,
          17,
          8,
          14,
          10,
          20,
          2,
          13,
          22,
          1,
          11,
          6,
          4,
          1,
          12,
          18,
          34,
          49,
          16,
          14,
          28,
          25,
          25,
          21,
          5,
          4,
          10,
          4,
          4,
          6,
          2,
          23,
          8,
          1,
          23,
          9,
          35,
          3,
          11,
          8,
          40,
          11,
          26,
          22,
          22,
          8,
          4,
          4,
          5,
          3,
          31,
          35,
          16,
          31,
          8,
          12,
          19,
          9,
          24,
          11,
          14,
          13,
          8,
          9,
          31,
          8,
          38,
          3,
          7,
          12,
          5,
          2,
          18,
          20,
          12,
          2,
          16,
          15,
          27,
          16,
          42,
          31,
          8,
          17,
          2,
          3,
          22,
          16,
          16,
          11,
          39,
          2,
          7,
          5,
          38,
          18,
          13,
          7,
          3,
          37,
          2,
          6,
          14,
          17,
          18,
          38,
          9,
          7,
          19,
          33,
          5,
          10,
          9,
          24,
          9,
          2,
          11,
          4,
          14,
          2,
          14,
          11,
          9,
          5,
          1,
          1,
          39,
          7,
          22,
          10,
          3,
          6,
          3,
          2,
          10,
          12,
          29,
          1,
          4,
          3,
          18,
          10,
          11,
          2,
          6,
          16,
          3,
          10,
          4,
          39,
          8,
          10,
          2,
          9,
          19,
          5,
          7,
          8,
          8,
          4,
          20,
          9,
          5,
          31,
          17,
          18,
          2,
          19,
          10,
          18,
          9,
          7,
          7,
          26,
          2,
          12,
          5,
          11,
          14,
          7,
          21,
          17,
          19,
          17,
          31,
          17,
          27,
          8,
          39,
          2,
          4,
          23,
          29,
          19,
          1,
          38,
          21,
          13,
          3,
          16,
          19,
          10,
          13,
          14,
          16,
          35,
          7,
          43,
          11,
          11,
          9,
          8,
          11,
          3,
          1,
          7,
          1,
          31,
          9,
          18,
          33,
          11,
          24,
          6,
          32,
          3,
          26,
          35,
          4,
          6,
          2,
          15,
          24,
          1,
          31,
          15,
          13,
          35,
          8,
          9,
          9,
          7,
          11,
          18,
          21,
          29,
          41,
          1,
          7,
          3,
          31,
          23,
          9,
          15,
          10,
          12,
          2,
          9,
          12,
          9,
          2,
          2,
          1,
          5,
          4,
          15,
          1,
          13,
          28,
          9,
          4,
          3,
          4,
          41,
          22,
          3,
          23,
          2,
          17,
          4,
          10,
          9,
          3,
          42,
          1,
          15,
          8,
          11,
          3,
          4,
          12,
          10,
          1,
          34,
          7,
          3,
          3,
          4,
          5,
          24,
          3,
          9,
          3,
          10,
          2,
          2,
          7,
          16,
          1,
          13,
          13,
          7,
          4,
          27,
          16,
          10,
          49,
          35,
          11,
          1,
          6,
          5,
          36,
          4,
          1,
          5,
          12,
          11,
          27,
          1,
          1,
          21,
          33,
          3,
          40,
          13,
          4,
          18,
          4,
          31,
          11,
          4,
          32,
          38,
          11,
          27,
          3,
          16,
          1,
          18,
          8,
          3,
          29,
          43,
          20,
          26,
          11,
          30,
          24,
          31,
          2,
          18,
          11,
          6,
          15,
          17,
          14,
          26,
          11,
          33,
          1,
          13,
          10,
          5,
          9,
          1,
          16,
          3,
          2,
          2,
          7,
          11,
          8,
          8,
          8,
          1,
          23,
          22,
          22,
          34,
          33,
          1,
          18,
          13,
          3,
          32,
          18,
          12,
          9,
          9,
          5,
          20,
          1,
          11,
          6,
          16,
          15,
          4,
          15,
          5,
          26,
          15,
          25,
          9,
          30,
          4,
          17,
          7,
          6,
          2,
          28,
          4,
          5,
          5,
          34,
          10,
          7,
          35,
          8,
          31,
          3,
          5,
          7,
          6,
          4,
          3,
          11,
          21,
          19,
          4,
          2,
          6,
          5,
          10,
          9,
          17,
          21,
          9,
          7,
          3,
          3,
          14,
          26,
          37,
          2,
          18,
          8,
          9,
          3,
          5,
          7,
          5,
          9,
          44,
          12,
          14,
          3,
          10,
          11,
          4,
          34,
          3,
          9,
          3,
          8,
          1,
          11,
          7,
          7,
          31,
          14,
          13,
          13,
          38,
          7,
          29,
          33,
          10,
          1,
          6,
          44,
          31,
          7,
          8,
          12,
          10,
          5,
          1,
          9,
          13,
          6,
          10,
          13,
          16,
          24,
          41,
          24,
          9,
          4,
          16,
          6,
          21,
          7,
          4,
          8,
          13,
          13,
          3,
          14,
          4,
          12,
          3,
          3,
          25,
          18,
          3,
          5,
          33,
          17,
          8,
          17,
          4,
          5,
          2,
          1,
          4,
          6,
          3,
          6,
          27,
          5,
          2,
          12,
          10,
          4,
          11,
          7,
          11,
          11,
          8,
          2,
          21,
          8,
          2,
          17,
          5,
          17,
          16,
          3,
          7,
          25,
          15,
          8,
          32,
          17,
          8,
          9,
          6,
          8,
          7,
          26,
          4,
          13,
          10,
          3,
          2,
          11,
          24,
          16,
          25,
          8,
          3,
          10,
          42,
          9,
          8,
          11,
          10,
          32,
          10,
          5,
          7,
          10,
          25,
          3,
          23,
          9,
          7,
          6,
          11,
          7,
          5,
          29,
          1,
          8,
          2,
          10,
          9,
          21,
          33,
          49,
          3,
          3,
          30,
          5,
          32,
          14,
          17,
          12,
          1,
          5,
          15,
          5,
          36,
          21,
          9,
          9,
          11,
          5,
          3,
          9,
          33,
          3,
          25,
          13,
          18,
          17,
          5,
          5,
          14,
          24,
          13,
          31,
          8,
          8,
          4,
          2,
          3,
          2,
          2,
          6,
          13,
          3,
          18,
          8,
          2,
          21,
          14,
          3,
          1,
          19,
          3,
          12,
          3,
          2,
          35,
          5,
          8,
          5,
          1,
          4,
          1,
          20,
          3,
          3,
          7,
          7,
          1,
          3,
          4,
          1,
          7,
          7,
          10,
          26,
          3,
          35,
          9,
          10,
          8,
          9,
          4,
          27,
          2,
          6,
          9,
          3,
          3,
          14,
          24,
          4,
          13,
          14,
          10,
          12,
          9,
          11,
          11,
          12,
          2,
          8,
          9,
          3,
          15,
          3,
          8,
          26,
          3,
          1,
          3,
          19,
          5,
          8,
          2,
          4,
          21,
          8,
          7,
          13,
          13,
          12,
          39,
          2,
          33,
          7,
          4,
          1,
          45,
          3,
          11,
          10,
          13,
          4,
          19,
          4,
          6,
          15,
          2,
          1,
          4,
          13,
          8,
          38,
          20,
          4,
          4,
          39,
          21,
          21,
          22,
          6,
          8,
          22,
          12,
          2,
          27,
          3,
          7,
          42,
          1,
          7,
          1,
          3,
          43,
          30,
          1,
          36,
          27,
          3,
          2,
          30,
          8,
          8,
          8,
          15,
          9,
          3,
          39,
          37,
          5,
          7,
          4,
          14,
          1,
          9,
          31,
          35,
          6,
          46,
          12,
          16,
          7,
          3,
          30,
          16,
          12,
          8,
          6,
          3,
          2,
          33,
          31,
          34,
          26,
          1,
          9,
          11,
          1,
          33,
          32,
          3,
          7,
          5,
          13,
          8,
          32,
          14,
          4,
          16,
          18,
          16,
          2,
          10,
          11,
          8,
          12,
          11,
          2,
          19,
          5,
          17,
          15,
          14,
          13,
          34,
          3,
          15,
          7,
          2,
          13,
          8,
          26,
          22,
          3,
          18,
          20,
          3,
          10,
          17,
          11,
          7,
          11,
          43,
          21,
          20,
          1,
          37,
          34,
          11,
          9,
          36,
          1,
          9,
          20,
          12,
          8,
          15,
          3,
          6,
          32,
          14,
          3,
          24,
          6,
          12,
          13,
          37,
          15,
          10,
          15,
          30,
          35,
          10,
          1,
          12,
          5,
          24,
          17,
          13,
          6,
          13,
          2,
          2,
          3,
          4,
          8,
          23,
          19,
          31,
          34,
          3,
          13,
          18,
          1,
          46,
          33,
          31,
          1,
          7,
          3,
          26,
          27,
          5,
          10,
          16,
          8,
          5,
          16,
          12,
          20,
          8,
          32,
          16,
          11,
          8,
          4,
          3,
          4,
          4,
          10,
          15,
          5,
          13,
          11,
          6,
          18,
          7,
          38,
          2,
          8,
          35,
          1,
          5,
          11,
          4,
          26,
          15,
          32,
          30,
          3,
          6,
          1,
          2,
          2,
          24,
          2,
          4,
          6,
          11,
          2,
          2,
          3,
          19,
          5,
          3,
          4,
          4,
          8,
          10,
          3,
          11,
          9,
          31,
          9,
          6,
          21,
          1,
          2,
          18,
          2,
          26,
          8,
          22,
          25,
          42,
          1,
          10,
          1,
          1,
          32,
          9,
          1,
          30,
          2,
          9,
          6,
          46,
          2,
          36,
          14,
          19,
          29,
          9,
          23,
          17,
          3,
          15,
          34,
          17,
          2,
          19,
          18,
          27,
          11,
          4,
          5,
          35,
          20,
          1,
          7,
          44,
          2,
          26,
          33,
          19,
          13,
          11,
          6,
          1,
          38,
          4,
          8,
          2,
          2,
          2,
          2,
          2,
          7,
          22,
          9,
          4,
          7,
          3,
          3,
          38,
          28,
          43,
          6,
          18,
          7,
          9,
          37,
          35,
          4,
          7,
          4,
          24,
          4,
          9,
          4,
          1,
          9,
          21,
          4,
          41,
          30,
          1,
          14,
          5,
          6,
          37,
          9,
          7,
          4,
          35,
          1,
          26,
          4,
          5,
          24,
          22,
          5,
          15,
          10,
          5,
          21,
          10,
          3,
          9,
          37,
          36,
          11,
          8,
          9,
          6,
          8,
          13,
          34,
          20,
          2,
          3,
          10,
          7,
          4,
          3,
          8,
          28,
          19,
          2,
          14,
          3,
          17,
          7,
          13
         ],
         "x0": " ",
         "xaxis": "x",
         "y0": " ",
         "yaxis": "y"
        }
       ],
       "layout": {
        "boxmode": "group",
        "legend": {
         "tracegroupgap": 0
        },
        "paper_bgcolor": "white",
        "plot_bgcolor": "white",
        "template": {
         "data": {
          "bar": [
           {
            "error_x": {
             "color": "#2a3f5f"
            },
            "error_y": {
             "color": "#2a3f5f"
            },
            "marker": {
             "line": {
              "color": "#E5ECF6",
              "width": 0.5
             },
             "pattern": {
              "fillmode": "overlay",
              "size": 10,
              "solidity": 0.2
             }
            },
            "type": "bar"
           }
          ],
          "barpolar": [
           {
            "marker": {
             "line": {
              "color": "#E5ECF6",
              "width": 0.5
             },
             "pattern": {
              "fillmode": "overlay",
              "size": 10,
              "solidity": 0.2
             }
            },
            "type": "barpolar"
           }
          ],
          "carpet": [
           {
            "aaxis": {
             "endlinecolor": "#2a3f5f",
             "gridcolor": "white",
             "linecolor": "white",
             "minorgridcolor": "white",
             "startlinecolor": "#2a3f5f"
            },
            "baxis": {
             "endlinecolor": "#2a3f5f",
             "gridcolor": "white",
             "linecolor": "white",
             "minorgridcolor": "white",
             "startlinecolor": "#2a3f5f"
            },
            "type": "carpet"
           }
          ],
          "choropleth": [
           {
            "colorbar": {
             "outlinewidth": 0,
             "ticks": ""
            },
            "type": "choropleth"
           }
          ],
          "contour": [
           {
            "colorbar": {
             "outlinewidth": 0,
             "ticks": ""
            },
            "colorscale": [
             [
              0,
              "#0d0887"
             ],
             [
              0.1111111111111111,
              "#46039f"
             ],
             [
              0.2222222222222222,
              "#7201a8"
             ],
             [
              0.3333333333333333,
              "#9c179e"
             ],
             [
              0.4444444444444444,
              "#bd3786"
             ],
             [
              0.5555555555555556,
              "#d8576b"
             ],
             [
              0.6666666666666666,
              "#ed7953"
             ],
             [
              0.7777777777777778,
              "#fb9f3a"
             ],
             [
              0.8888888888888888,
              "#fdca26"
             ],
             [
              1,
              "#f0f921"
             ]
            ],
            "type": "contour"
           }
          ],
          "contourcarpet": [
           {
            "colorbar": {
             "outlinewidth": 0,
             "ticks": ""
            },
            "type": "contourcarpet"
           }
          ],
          "heatmap": [
           {
            "colorbar": {
             "outlinewidth": 0,
             "ticks": ""
            },
            "colorscale": [
             [
              0,
              "#0d0887"
             ],
             [
              0.1111111111111111,
              "#46039f"
             ],
             [
              0.2222222222222222,
              "#7201a8"
             ],
             [
              0.3333333333333333,
              "#9c179e"
             ],
             [
              0.4444444444444444,
              "#bd3786"
             ],
             [
              0.5555555555555556,
              "#d8576b"
             ],
             [
              0.6666666666666666,
              "#ed7953"
             ],
             [
              0.7777777777777778,
              "#fb9f3a"
             ],
             [
              0.8888888888888888,
              "#fdca26"
             ],
             [
              1,
              "#f0f921"
             ]
            ],
            "type": "heatmap"
           }
          ],
          "heatmapgl": [
           {
            "colorbar": {
             "outlinewidth": 0,
             "ticks": ""
            },
            "colorscale": [
             [
              0,
              "#0d0887"
             ],
             [
              0.1111111111111111,
              "#46039f"
             ],
             [
              0.2222222222222222,
              "#7201a8"
             ],
             [
              0.3333333333333333,
              "#9c179e"
             ],
             [
              0.4444444444444444,
              "#bd3786"
             ],
             [
              0.5555555555555556,
              "#d8576b"
             ],
             [
              0.6666666666666666,
              "#ed7953"
             ],
             [
              0.7777777777777778,
              "#fb9f3a"
             ],
             [
              0.8888888888888888,
              "#fdca26"
             ],
             [
              1,
              "#f0f921"
             ]
            ],
            "type": "heatmapgl"
           }
          ],
          "histogram": [
           {
            "marker": {
             "pattern": {
              "fillmode": "overlay",
              "size": 10,
              "solidity": 0.2
             }
            },
            "type": "histogram"
           }
          ],
          "histogram2d": [
           {
            "colorbar": {
             "outlinewidth": 0,
             "ticks": ""
            },
            "colorscale": [
             [
              0,
              "#0d0887"
             ],
             [
              0.1111111111111111,
              "#46039f"
             ],
             [
              0.2222222222222222,
              "#7201a8"
             ],
             [
              0.3333333333333333,
              "#9c179e"
             ],
             [
              0.4444444444444444,
              "#bd3786"
             ],
             [
              0.5555555555555556,
              "#d8576b"
             ],
             [
              0.6666666666666666,
              "#ed7953"
             ],
             [
              0.7777777777777778,
              "#fb9f3a"
             ],
             [
              0.8888888888888888,
              "#fdca26"
             ],
             [
              1,
              "#f0f921"
             ]
            ],
            "type": "histogram2d"
           }
          ],
          "histogram2dcontour": [
           {
            "colorbar": {
             "outlinewidth": 0,
             "ticks": ""
            },
            "colorscale": [
             [
              0,
              "#0d0887"
             ],
             [
              0.1111111111111111,
              "#46039f"
             ],
             [
              0.2222222222222222,
              "#7201a8"
             ],
             [
              0.3333333333333333,
              "#9c179e"
             ],
             [
              0.4444444444444444,
              "#bd3786"
             ],
             [
              0.5555555555555556,
              "#d8576b"
             ],
             [
              0.6666666666666666,
              "#ed7953"
             ],
             [
              0.7777777777777778,
              "#fb9f3a"
             ],
             [
              0.8888888888888888,
              "#fdca26"
             ],
             [
              1,
              "#f0f921"
             ]
            ],
            "type": "histogram2dcontour"
           }
          ],
          "mesh3d": [
           {
            "colorbar": {
             "outlinewidth": 0,
             "ticks": ""
            },
            "type": "mesh3d"
           }
          ],
          "parcoords": [
           {
            "line": {
             "colorbar": {
              "outlinewidth": 0,
              "ticks": ""
             }
            },
            "type": "parcoords"
           }
          ],
          "pie": [
           {
            "automargin": true,
            "type": "pie"
           }
          ],
          "scatter": [
           {
            "fillpattern": {
             "fillmode": "overlay",
             "size": 10,
             "solidity": 0.2
            },
            "type": "scatter"
           }
          ],
          "scatter3d": [
           {
            "line": {
             "colorbar": {
              "outlinewidth": 0,
              "ticks": ""
             }
            },
            "marker": {
             "colorbar": {
              "outlinewidth": 0,
              "ticks": ""
             }
            },
            "type": "scatter3d"
           }
          ],
          "scattercarpet": [
           {
            "marker": {
             "colorbar": {
              "outlinewidth": 0,
              "ticks": ""
             }
            },
            "type": "scattercarpet"
           }
          ],
          "scattergeo": [
           {
            "marker": {
             "colorbar": {
              "outlinewidth": 0,
              "ticks": ""
             }
            },
            "type": "scattergeo"
           }
          ],
          "scattergl": [
           {
            "marker": {
             "colorbar": {
              "outlinewidth": 0,
              "ticks": ""
             }
            },
            "type": "scattergl"
           }
          ],
          "scattermapbox": [
           {
            "marker": {
             "colorbar": {
              "outlinewidth": 0,
              "ticks": ""
             }
            },
            "type": "scattermapbox"
           }
          ],
          "scatterpolar": [
           {
            "marker": {
             "colorbar": {
              "outlinewidth": 0,
              "ticks": ""
             }
            },
            "type": "scatterpolar"
           }
          ],
          "scatterpolargl": [
           {
            "marker": {
             "colorbar": {
              "outlinewidth": 0,
              "ticks": ""
             }
            },
            "type": "scatterpolargl"
           }
          ],
          "scatterternary": [
           {
            "marker": {
             "colorbar": {
              "outlinewidth": 0,
              "ticks": ""
             }
            },
            "type": "scatterternary"
           }
          ],
          "surface": [
           {
            "colorbar": {
             "outlinewidth": 0,
             "ticks": ""
            },
            "colorscale": [
             [
              0,
              "#0d0887"
             ],
             [
              0.1111111111111111,
              "#46039f"
             ],
             [
              0.2222222222222222,
              "#7201a8"
             ],
             [
              0.3333333333333333,
              "#9c179e"
             ],
             [
              0.4444444444444444,
              "#bd3786"
             ],
             [
              0.5555555555555556,
              "#d8576b"
             ],
             [
              0.6666666666666666,
              "#ed7953"
             ],
             [
              0.7777777777777778,
              "#fb9f3a"
             ],
             [
              0.8888888888888888,
              "#fdca26"
             ],
             [
              1,
              "#f0f921"
             ]
            ],
            "type": "surface"
           }
          ],
          "table": [
           {
            "cells": {
             "fill": {
              "color": "#EBF0F8"
             },
             "line": {
              "color": "white"
             }
            },
            "header": {
             "fill": {
              "color": "#C8D4E3"
             },
             "line": {
              "color": "white"
             }
            },
            "type": "table"
           }
          ]
         },
         "layout": {
          "annotationdefaults": {
           "arrowcolor": "#2a3f5f",
           "arrowhead": 0,
           "arrowwidth": 1
          },
          "autotypenumbers": "strict",
          "coloraxis": {
           "colorbar": {
            "outlinewidth": 0,
            "ticks": ""
           }
          },
          "colorscale": {
           "diverging": [
            [
             0,
             "#8e0152"
            ],
            [
             0.1,
             "#c51b7d"
            ],
            [
             0.2,
             "#de77ae"
            ],
            [
             0.3,
             "#f1b6da"
            ],
            [
             0.4,
             "#fde0ef"
            ],
            [
             0.5,
             "#f7f7f7"
            ],
            [
             0.6,
             "#e6f5d0"
            ],
            [
             0.7,
             "#b8e186"
            ],
            [
             0.8,
             "#7fbc41"
            ],
            [
             0.9,
             "#4d9221"
            ],
            [
             1,
             "#276419"
            ]
           ],
           "sequential": [
            [
             0,
             "#0d0887"
            ],
            [
             0.1111111111111111,
             "#46039f"
            ],
            [
             0.2222222222222222,
             "#7201a8"
            ],
            [
             0.3333333333333333,
             "#9c179e"
            ],
            [
             0.4444444444444444,
             "#bd3786"
            ],
            [
             0.5555555555555556,
             "#d8576b"
            ],
            [
             0.6666666666666666,
             "#ed7953"
            ],
            [
             0.7777777777777778,
             "#fb9f3a"
            ],
            [
             0.8888888888888888,
             "#fdca26"
            ],
            [
             1,
             "#f0f921"
            ]
           ],
           "sequentialminus": [
            [
             0,
             "#0d0887"
            ],
            [
             0.1111111111111111,
             "#46039f"
            ],
            [
             0.2222222222222222,
             "#7201a8"
            ],
            [
             0.3333333333333333,
             "#9c179e"
            ],
            [
             0.4444444444444444,
             "#bd3786"
            ],
            [
             0.5555555555555556,
             "#d8576b"
            ],
            [
             0.6666666666666666,
             "#ed7953"
            ],
            [
             0.7777777777777778,
             "#fb9f3a"
            ],
            [
             0.8888888888888888,
             "#fdca26"
            ],
            [
             1,
             "#f0f921"
            ]
           ]
          },
          "colorway": [
           "#636efa",
           "#EF553B",
           "#00cc96",
           "#ab63fa",
           "#FFA15A",
           "#19d3f3",
           "#FF6692",
           "#B6E880",
           "#FF97FF",
           "#FECB52"
          ],
          "font": {
           "color": "#2a3f5f"
          },
          "geo": {
           "bgcolor": "white",
           "lakecolor": "white",
           "landcolor": "#E5ECF6",
           "showlakes": true,
           "showland": true,
           "subunitcolor": "white"
          },
          "hoverlabel": {
           "align": "left"
          },
          "hovermode": "closest",
          "mapbox": {
           "style": "light"
          },
          "paper_bgcolor": "white",
          "plot_bgcolor": "#E5ECF6",
          "polar": {
           "angularaxis": {
            "gridcolor": "white",
            "linecolor": "white",
            "ticks": ""
           },
           "bgcolor": "#E5ECF6",
           "radialaxis": {
            "gridcolor": "white",
            "linecolor": "white",
            "ticks": ""
           }
          },
          "scene": {
           "xaxis": {
            "backgroundcolor": "#E5ECF6",
            "gridcolor": "white",
            "gridwidth": 2,
            "linecolor": "white",
            "showbackground": true,
            "ticks": "",
            "zerolinecolor": "white"
           },
           "yaxis": {
            "backgroundcolor": "#E5ECF6",
            "gridcolor": "white",
            "gridwidth": 2,
            "linecolor": "white",
            "showbackground": true,
            "ticks": "",
            "zerolinecolor": "white"
           },
           "zaxis": {
            "backgroundcolor": "#E5ECF6",
            "gridcolor": "white",
            "gridwidth": 2,
            "linecolor": "white",
            "showbackground": true,
            "ticks": "",
            "zerolinecolor": "white"
           }
          },
          "shapedefaults": {
           "line": {
            "color": "#2a3f5f"
           }
          },
          "ternary": {
           "aaxis": {
            "gridcolor": "white",
            "linecolor": "white",
            "ticks": ""
           },
           "baxis": {
            "gridcolor": "white",
            "linecolor": "white",
            "ticks": ""
           },
           "bgcolor": "#E5ECF6",
           "caxis": {
            "gridcolor": "white",
            "linecolor": "white",
            "ticks": ""
           }
          },
          "title": {
           "x": 0.05
          },
          "xaxis": {
           "automargin": true,
           "gridcolor": "white",
           "linecolor": "white",
           "ticks": "",
           "title": {
            "standoff": 15
           },
           "zerolinecolor": "white",
           "zerolinewidth": 2
          },
          "yaxis": {
           "automargin": true,
           "gridcolor": "white",
           "linecolor": "white",
           "ticks": "",
           "title": {
            "standoff": 15
           },
           "zerolinecolor": "white",
           "zerolinewidth": 2
          }
         }
        },
        "title": {
         "text": "Annual User Behavior Distribution",
         "x": 0.5
        },
        "xaxis": {
         "anchor": "y",
         "domain": [
          0,
          1
         ],
         "title": {
          "text": "Number of Transactions"
         }
        },
        "yaxis": {
         "anchor": "x",
         "domain": [
          0,
          1
         ],
         "title": {
          "text": ""
         }
        }
       }
      }
     },
     "metadata": {},
     "output_type": "display_data"
    }
   ],
   "source": [
    "customer_txns = data.groupby('customerID')['txn_ID'].count().reset_index()\n",
    "\n",
    "fig = px.box(customer_txns, x='txn_ID',\n",
    "              orientation = 'h',\n",
    "              title='Annual User Behavior Distribution')\n",
    "\n",
    "fig.update_layout(\n",
    "    yaxis_title='',\n",
    "    xaxis_title='Number of Transactions',\n",
    "    plot_bgcolor='white',\n",
    "    paper_bgcolor='white',\n",
    "    title_x = 0.5\n",
    ")\n",
    "\n",
    "fig.show()"
   ]
  },
  {
   "cell_type": "markdown",
   "metadata": {},
   "source": [
    "### Insight 1: Profiling the Ideal Digital Wallet User\n",
    "\n",
    "Our analysis reveals that the typical digital wallet user engages with the platform with a transaction frequency ranging from the median of 10 up to the third quartile at 19 transactions annually. This group represents the sweet spot of our user base – active without being outliers. By focusing on elevating users to this 10-19 transaction bracket, we can cultivate a more robust and committed customer segment. Strategies designed to move lower-frequency users into this band could yield significant engagement gains, solidifying our foundation of consistently active users.\n",
    "\n",
    "### Insight 2: Aspiring Towards Highly Engaged Customers\n",
    "\n",
    "Upon careful examination of the upper transaction range, we find that the upper fence of the box plot stands at 40 transactions. Users exceeding this frequency demonstrate exceptional engagement with our digital wallet. However, before we label them as our 'ideal customers', a meticulous verification is necessary to confirm that this activity is legitimate and not a result of abusive or fraudulent behavior. Once validated, these highly active customers represent a pinnacle of engagement that we can aspire to. By studying their habits, we can identify features and services that resonate with our most active users. With this understanding, we can then develop targeted marketing strategies and loyalty programs aimed at nurturing our broader user base to achieve similar levels of activity, while ensuring the integrity and security of transactions within our platform."
   ]
  },
  {
   "cell_type": "markdown",
   "metadata": {},
   "source": [
    "# How many ideal customers do we have?"
   ]
  },
  {
   "cell_type": "code",
   "execution_count": 10,
   "metadata": {},
   "outputs": [
    {
     "name": "stdout",
     "output_type": "stream",
     "text": [
      "We got 1,230 ideal customers (27.61% of our database)\n"
     ]
    }
   ],
   "source": [
    "ideal_customers = customer_txns[(customer_txns['txn_ID'] >= 10) & (customer_txns['txn_ID'] <= 19)]\n",
    "data_ideal_customers = data[data['customerID'].isin(ideal_customers['customerID'])]\n",
    "ideal_customers_unique = data_ideal_customers['customerID'].nunique()\n",
    "print(f'We got {ideal_customers_unique:,} ideal customers ({round(ideal_customers_unique/unique_customers*100,2)}% of our database)')"
   ]
  },
  {
   "cell_type": "markdown",
   "metadata": {},
   "source": [
    "### Insight: Proportion of Ideal Customers Within the User Base\n",
    "\n",
    "We've identified that 1,230 of our customers fall into the ideal engagement bracket, with transaction frequencies ranging from 10 to 19 annually. This segment makes up a significant 27.61% of our total customer base. Recognizing the substantial size of this group provides us with a clear target demographic for engagement strategies. By further understanding and catering to the needs and preferences of these users, we can foster a more active and dedicated customer base, thereby increasing overall platform engagement and loyalty."
   ]
  },
  {
   "cell_type": "markdown",
   "metadata": {},
   "source": [
    "# How did we acquire them?"
   ]
  },
  {
   "cell_type": "code",
   "execution_count": 11,
   "metadata": {},
   "outputs": [
    {
     "data": {
      "application/vnd.plotly.v1+json": {
       "config": {
        "plotlyServerURL": "https://plot.ly"
       },
       "data": [
        {
         "alignmentgroup": "True",
         "hovertemplate": "Number of Customers=%{x}<br>Acquisition Channel=%{y}<extra></extra>",
         "legendgroup": "",
         "marker": {
          "color": "#636efa",
          "pattern": {
           "shape": ""
          }
         },
         "name": "",
         "offsetgroup": "",
         "orientation": "h",
         "showlegend": false,
         "textposition": "auto",
         "type": "bar",
         "x": [
          419,
          412,
          399
         ],
         "xaxis": "x",
         "y": [
          "organic_acquisition",
          "social_media",
          "store_acquisition"
         ],
         "yaxis": "y"
        }
       ],
       "layout": {
        "barmode": "relative",
        "legend": {
         "tracegroupgap": 0
        },
        "paper_bgcolor": "white",
        "plot_bgcolor": "white",
        "template": {
         "data": {
          "bar": [
           {
            "error_x": {
             "color": "#2a3f5f"
            },
            "error_y": {
             "color": "#2a3f5f"
            },
            "marker": {
             "line": {
              "color": "#E5ECF6",
              "width": 0.5
             },
             "pattern": {
              "fillmode": "overlay",
              "size": 10,
              "solidity": 0.2
             }
            },
            "type": "bar"
           }
          ],
          "barpolar": [
           {
            "marker": {
             "line": {
              "color": "#E5ECF6",
              "width": 0.5
             },
             "pattern": {
              "fillmode": "overlay",
              "size": 10,
              "solidity": 0.2
             }
            },
            "type": "barpolar"
           }
          ],
          "carpet": [
           {
            "aaxis": {
             "endlinecolor": "#2a3f5f",
             "gridcolor": "white",
             "linecolor": "white",
             "minorgridcolor": "white",
             "startlinecolor": "#2a3f5f"
            },
            "baxis": {
             "endlinecolor": "#2a3f5f",
             "gridcolor": "white",
             "linecolor": "white",
             "minorgridcolor": "white",
             "startlinecolor": "#2a3f5f"
            },
            "type": "carpet"
           }
          ],
          "choropleth": [
           {
            "colorbar": {
             "outlinewidth": 0,
             "ticks": ""
            },
            "type": "choropleth"
           }
          ],
          "contour": [
           {
            "colorbar": {
             "outlinewidth": 0,
             "ticks": ""
            },
            "colorscale": [
             [
              0,
              "#0d0887"
             ],
             [
              0.1111111111111111,
              "#46039f"
             ],
             [
              0.2222222222222222,
              "#7201a8"
             ],
             [
              0.3333333333333333,
              "#9c179e"
             ],
             [
              0.4444444444444444,
              "#bd3786"
             ],
             [
              0.5555555555555556,
              "#d8576b"
             ],
             [
              0.6666666666666666,
              "#ed7953"
             ],
             [
              0.7777777777777778,
              "#fb9f3a"
             ],
             [
              0.8888888888888888,
              "#fdca26"
             ],
             [
              1,
              "#f0f921"
             ]
            ],
            "type": "contour"
           }
          ],
          "contourcarpet": [
           {
            "colorbar": {
             "outlinewidth": 0,
             "ticks": ""
            },
            "type": "contourcarpet"
           }
          ],
          "heatmap": [
           {
            "colorbar": {
             "outlinewidth": 0,
             "ticks": ""
            },
            "colorscale": [
             [
              0,
              "#0d0887"
             ],
             [
              0.1111111111111111,
              "#46039f"
             ],
             [
              0.2222222222222222,
              "#7201a8"
             ],
             [
              0.3333333333333333,
              "#9c179e"
             ],
             [
              0.4444444444444444,
              "#bd3786"
             ],
             [
              0.5555555555555556,
              "#d8576b"
             ],
             [
              0.6666666666666666,
              "#ed7953"
             ],
             [
              0.7777777777777778,
              "#fb9f3a"
             ],
             [
              0.8888888888888888,
              "#fdca26"
             ],
             [
              1,
              "#f0f921"
             ]
            ],
            "type": "heatmap"
           }
          ],
          "heatmapgl": [
           {
            "colorbar": {
             "outlinewidth": 0,
             "ticks": ""
            },
            "colorscale": [
             [
              0,
              "#0d0887"
             ],
             [
              0.1111111111111111,
              "#46039f"
             ],
             [
              0.2222222222222222,
              "#7201a8"
             ],
             [
              0.3333333333333333,
              "#9c179e"
             ],
             [
              0.4444444444444444,
              "#bd3786"
             ],
             [
              0.5555555555555556,
              "#d8576b"
             ],
             [
              0.6666666666666666,
              "#ed7953"
             ],
             [
              0.7777777777777778,
              "#fb9f3a"
             ],
             [
              0.8888888888888888,
              "#fdca26"
             ],
             [
              1,
              "#f0f921"
             ]
            ],
            "type": "heatmapgl"
           }
          ],
          "histogram": [
           {
            "marker": {
             "pattern": {
              "fillmode": "overlay",
              "size": 10,
              "solidity": 0.2
             }
            },
            "type": "histogram"
           }
          ],
          "histogram2d": [
           {
            "colorbar": {
             "outlinewidth": 0,
             "ticks": ""
            },
            "colorscale": [
             [
              0,
              "#0d0887"
             ],
             [
              0.1111111111111111,
              "#46039f"
             ],
             [
              0.2222222222222222,
              "#7201a8"
             ],
             [
              0.3333333333333333,
              "#9c179e"
             ],
             [
              0.4444444444444444,
              "#bd3786"
             ],
             [
              0.5555555555555556,
              "#d8576b"
             ],
             [
              0.6666666666666666,
              "#ed7953"
             ],
             [
              0.7777777777777778,
              "#fb9f3a"
             ],
             [
              0.8888888888888888,
              "#fdca26"
             ],
             [
              1,
              "#f0f921"
             ]
            ],
            "type": "histogram2d"
           }
          ],
          "histogram2dcontour": [
           {
            "colorbar": {
             "outlinewidth": 0,
             "ticks": ""
            },
            "colorscale": [
             [
              0,
              "#0d0887"
             ],
             [
              0.1111111111111111,
              "#46039f"
             ],
             [
              0.2222222222222222,
              "#7201a8"
             ],
             [
              0.3333333333333333,
              "#9c179e"
             ],
             [
              0.4444444444444444,
              "#bd3786"
             ],
             [
              0.5555555555555556,
              "#d8576b"
             ],
             [
              0.6666666666666666,
              "#ed7953"
             ],
             [
              0.7777777777777778,
              "#fb9f3a"
             ],
             [
              0.8888888888888888,
              "#fdca26"
             ],
             [
              1,
              "#f0f921"
             ]
            ],
            "type": "histogram2dcontour"
           }
          ],
          "mesh3d": [
           {
            "colorbar": {
             "outlinewidth": 0,
             "ticks": ""
            },
            "type": "mesh3d"
           }
          ],
          "parcoords": [
           {
            "line": {
             "colorbar": {
              "outlinewidth": 0,
              "ticks": ""
             }
            },
            "type": "parcoords"
           }
          ],
          "pie": [
           {
            "automargin": true,
            "type": "pie"
           }
          ],
          "scatter": [
           {
            "fillpattern": {
             "fillmode": "overlay",
             "size": 10,
             "solidity": 0.2
            },
            "type": "scatter"
           }
          ],
          "scatter3d": [
           {
            "line": {
             "colorbar": {
              "outlinewidth": 0,
              "ticks": ""
             }
            },
            "marker": {
             "colorbar": {
              "outlinewidth": 0,
              "ticks": ""
             }
            },
            "type": "scatter3d"
           }
          ],
          "scattercarpet": [
           {
            "marker": {
             "colorbar": {
              "outlinewidth": 0,
              "ticks": ""
             }
            },
            "type": "scattercarpet"
           }
          ],
          "scattergeo": [
           {
            "marker": {
             "colorbar": {
              "outlinewidth": 0,
              "ticks": ""
             }
            },
            "type": "scattergeo"
           }
          ],
          "scattergl": [
           {
            "marker": {
             "colorbar": {
              "outlinewidth": 0,
              "ticks": ""
             }
            },
            "type": "scattergl"
           }
          ],
          "scattermapbox": [
           {
            "marker": {
             "colorbar": {
              "outlinewidth": 0,
              "ticks": ""
             }
            },
            "type": "scattermapbox"
           }
          ],
          "scatterpolar": [
           {
            "marker": {
             "colorbar": {
              "outlinewidth": 0,
              "ticks": ""
             }
            },
            "type": "scatterpolar"
           }
          ],
          "scatterpolargl": [
           {
            "marker": {
             "colorbar": {
              "outlinewidth": 0,
              "ticks": ""
             }
            },
            "type": "scatterpolargl"
           }
          ],
          "scatterternary": [
           {
            "marker": {
             "colorbar": {
              "outlinewidth": 0,
              "ticks": ""
             }
            },
            "type": "scatterternary"
           }
          ],
          "surface": [
           {
            "colorbar": {
             "outlinewidth": 0,
             "ticks": ""
            },
            "colorscale": [
             [
              0,
              "#0d0887"
             ],
             [
              0.1111111111111111,
              "#46039f"
             ],
             [
              0.2222222222222222,
              "#7201a8"
             ],
             [
              0.3333333333333333,
              "#9c179e"
             ],
             [
              0.4444444444444444,
              "#bd3786"
             ],
             [
              0.5555555555555556,
              "#d8576b"
             ],
             [
              0.6666666666666666,
              "#ed7953"
             ],
             [
              0.7777777777777778,
              "#fb9f3a"
             ],
             [
              0.8888888888888888,
              "#fdca26"
             ],
             [
              1,
              "#f0f921"
             ]
            ],
            "type": "surface"
           }
          ],
          "table": [
           {
            "cells": {
             "fill": {
              "color": "#EBF0F8"
             },
             "line": {
              "color": "white"
             }
            },
            "header": {
             "fill": {
              "color": "#C8D4E3"
             },
             "line": {
              "color": "white"
             }
            },
            "type": "table"
           }
          ]
         },
         "layout": {
          "annotationdefaults": {
           "arrowcolor": "#2a3f5f",
           "arrowhead": 0,
           "arrowwidth": 1
          },
          "autotypenumbers": "strict",
          "coloraxis": {
           "colorbar": {
            "outlinewidth": 0,
            "ticks": ""
           }
          },
          "colorscale": {
           "diverging": [
            [
             0,
             "#8e0152"
            ],
            [
             0.1,
             "#c51b7d"
            ],
            [
             0.2,
             "#de77ae"
            ],
            [
             0.3,
             "#f1b6da"
            ],
            [
             0.4,
             "#fde0ef"
            ],
            [
             0.5,
             "#f7f7f7"
            ],
            [
             0.6,
             "#e6f5d0"
            ],
            [
             0.7,
             "#b8e186"
            ],
            [
             0.8,
             "#7fbc41"
            ],
            [
             0.9,
             "#4d9221"
            ],
            [
             1,
             "#276419"
            ]
           ],
           "sequential": [
            [
             0,
             "#0d0887"
            ],
            [
             0.1111111111111111,
             "#46039f"
            ],
            [
             0.2222222222222222,
             "#7201a8"
            ],
            [
             0.3333333333333333,
             "#9c179e"
            ],
            [
             0.4444444444444444,
             "#bd3786"
            ],
            [
             0.5555555555555556,
             "#d8576b"
            ],
            [
             0.6666666666666666,
             "#ed7953"
            ],
            [
             0.7777777777777778,
             "#fb9f3a"
            ],
            [
             0.8888888888888888,
             "#fdca26"
            ],
            [
             1,
             "#f0f921"
            ]
           ],
           "sequentialminus": [
            [
             0,
             "#0d0887"
            ],
            [
             0.1111111111111111,
             "#46039f"
            ],
            [
             0.2222222222222222,
             "#7201a8"
            ],
            [
             0.3333333333333333,
             "#9c179e"
            ],
            [
             0.4444444444444444,
             "#bd3786"
            ],
            [
             0.5555555555555556,
             "#d8576b"
            ],
            [
             0.6666666666666666,
             "#ed7953"
            ],
            [
             0.7777777777777778,
             "#fb9f3a"
            ],
            [
             0.8888888888888888,
             "#fdca26"
            ],
            [
             1,
             "#f0f921"
            ]
           ]
          },
          "colorway": [
           "#636efa",
           "#EF553B",
           "#00cc96",
           "#ab63fa",
           "#FFA15A",
           "#19d3f3",
           "#FF6692",
           "#B6E880",
           "#FF97FF",
           "#FECB52"
          ],
          "font": {
           "color": "#2a3f5f"
          },
          "geo": {
           "bgcolor": "white",
           "lakecolor": "white",
           "landcolor": "#E5ECF6",
           "showlakes": true,
           "showland": true,
           "subunitcolor": "white"
          },
          "hoverlabel": {
           "align": "left"
          },
          "hovermode": "closest",
          "mapbox": {
           "style": "light"
          },
          "paper_bgcolor": "white",
          "plot_bgcolor": "#E5ECF6",
          "polar": {
           "angularaxis": {
            "gridcolor": "white",
            "linecolor": "white",
            "ticks": ""
           },
           "bgcolor": "#E5ECF6",
           "radialaxis": {
            "gridcolor": "white",
            "linecolor": "white",
            "ticks": ""
           }
          },
          "scene": {
           "xaxis": {
            "backgroundcolor": "#E5ECF6",
            "gridcolor": "white",
            "gridwidth": 2,
            "linecolor": "white",
            "showbackground": true,
            "ticks": "",
            "zerolinecolor": "white"
           },
           "yaxis": {
            "backgroundcolor": "#E5ECF6",
            "gridcolor": "white",
            "gridwidth": 2,
            "linecolor": "white",
            "showbackground": true,
            "ticks": "",
            "zerolinecolor": "white"
           },
           "zaxis": {
            "backgroundcolor": "#E5ECF6",
            "gridcolor": "white",
            "gridwidth": 2,
            "linecolor": "white",
            "showbackground": true,
            "ticks": "",
            "zerolinecolor": "white"
           }
          },
          "shapedefaults": {
           "line": {
            "color": "#2a3f5f"
           }
          },
          "ternary": {
           "aaxis": {
            "gridcolor": "white",
            "linecolor": "white",
            "ticks": ""
           },
           "baxis": {
            "gridcolor": "white",
            "linecolor": "white",
            "ticks": ""
           },
           "bgcolor": "#E5ECF6",
           "caxis": {
            "gridcolor": "white",
            "linecolor": "white",
            "ticks": ""
           }
          },
          "title": {
           "x": 0.05
          },
          "xaxis": {
           "automargin": true,
           "gridcolor": "white",
           "linecolor": "white",
           "ticks": "",
           "title": {
            "standoff": 15
           },
           "zerolinecolor": "white",
           "zerolinewidth": 2
          },
          "yaxis": {
           "automargin": true,
           "gridcolor": "white",
           "linecolor": "white",
           "ticks": "",
           "title": {
            "standoff": 15
           },
           "zerolinecolor": "white",
           "zerolinewidth": 2
          }
         }
        },
        "title": {
         "text": "Customer acquisition",
         "x": 0.5
        },
        "xaxis": {
         "anchor": "y",
         "domain": [
          0,
          1
         ],
         "title": {
          "text": "Number of Customers"
         }
        },
        "yaxis": {
         "anchor": "x",
         "domain": [
          0,
          1
         ],
         "title": {
          "text": "Acquisition Channel"
         }
        }
       }
      }
     },
     "metadata": {},
     "output_type": "display_data"
    }
   ],
   "source": [
    "data_ideal_customers_unique = data_ideal_customers.drop_duplicates(subset='customerID')\n",
    "acquisition_ideal_customers = data_ideal_customers_unique.groupby('acquisition_channel')['customerID'].count().sort_values(ascending=False).reset_index()\n",
    "\n",
    "fig = px.bar(acquisition_ideal_customers, \n",
    "             x='customerID', \n",
    "             y='acquisition_channel',\n",
    "             orientation='h',\n",
    "             labels={'acquisition_channel': 'Acquisition Channel', 'customerID': 'Number of Customers'},\n",
    "             title='Customer acquisition')\n",
    "\n",
    "fig.update_layout(\n",
    "    plot_bgcolor='white',\n",
    "    paper_bgcolor='white',\n",
    "    title_x = 0.5\n",
    ")\n",
    "\n",
    "fig.show()"
   ]
  },
  {
   "cell_type": "markdown",
   "metadata": {},
   "source": [
    "### Insight: Diverse Channels for Ideal Customer Acquisition\n",
    "\n",
    "The acquisition channels for our ideal customers are well-diversified. Organic methods lead slightly with 419 customers, closely followed by social media with 412, and store-based acquisition with 399. This balanced distribution suggests that our ideal customers are not reliant on a single acquisition strategy, indicating the strength and effectiveness of our multi-channel marketing approach. Efforts to further optimize and invest in these channels could lead to an increase in acquiring customers who are more likely to become highly engaged with our platform.\n"
   ]
  },
  {
   "cell_type": "markdown",
   "metadata": {},
   "source": [
    "# When did we acquire them?"
   ]
  },
  {
   "cell_type": "code",
   "execution_count": 12,
   "metadata": {},
   "outputs": [
    {
     "data": {
      "application/vnd.plotly.v1+json": {
       "config": {
        "plotlyServerURL": "https://plot.ly"
       },
       "data": [
        {
         "alignmentgroup": "True",
         "hovertemplate": "Month=%{x}<br>Percentage=%{y}<extra></extra>",
         "legendgroup": "",
         "marker": {
          "color": "#636efa",
          "pattern": {
           "shape": ""
          }
         },
         "name": "",
         "offsetgroup": "",
         "orientation": "v",
         "showlegend": false,
         "textposition": "auto",
         "type": "bar",
         "x": [
          "2023-01",
          "2023-02",
          "2023-03",
          "2023-04",
          "2023-05",
          "2023-06",
          "2023-07",
          "2023-08",
          "2023-09"
         ],
         "xaxis": "x",
         "y": [
          0.24390243902439024,
          4.390243902439024,
          21.544715447154474,
          23.2520325203252,
          23.414634146341466,
          14.227642276422763,
          11.138211382113822,
          1.4634146341463417,
          0.3252032520325203
         ],
         "yaxis": "y"
        }
       ],
       "layout": {
        "barmode": "relative",
        "legend": {
         "tracegroupgap": 0
        },
        "paper_bgcolor": "white",
        "plot_bgcolor": "white",
        "template": {
         "data": {
          "bar": [
           {
            "error_x": {
             "color": "#2a3f5f"
            },
            "error_y": {
             "color": "#2a3f5f"
            },
            "marker": {
             "line": {
              "color": "#E5ECF6",
              "width": 0.5
             },
             "pattern": {
              "fillmode": "overlay",
              "size": 10,
              "solidity": 0.2
             }
            },
            "type": "bar"
           }
          ],
          "barpolar": [
           {
            "marker": {
             "line": {
              "color": "#E5ECF6",
              "width": 0.5
             },
             "pattern": {
              "fillmode": "overlay",
              "size": 10,
              "solidity": 0.2
             }
            },
            "type": "barpolar"
           }
          ],
          "carpet": [
           {
            "aaxis": {
             "endlinecolor": "#2a3f5f",
             "gridcolor": "white",
             "linecolor": "white",
             "minorgridcolor": "white",
             "startlinecolor": "#2a3f5f"
            },
            "baxis": {
             "endlinecolor": "#2a3f5f",
             "gridcolor": "white",
             "linecolor": "white",
             "minorgridcolor": "white",
             "startlinecolor": "#2a3f5f"
            },
            "type": "carpet"
           }
          ],
          "choropleth": [
           {
            "colorbar": {
             "outlinewidth": 0,
             "ticks": ""
            },
            "type": "choropleth"
           }
          ],
          "contour": [
           {
            "colorbar": {
             "outlinewidth": 0,
             "ticks": ""
            },
            "colorscale": [
             [
              0,
              "#0d0887"
             ],
             [
              0.1111111111111111,
              "#46039f"
             ],
             [
              0.2222222222222222,
              "#7201a8"
             ],
             [
              0.3333333333333333,
              "#9c179e"
             ],
             [
              0.4444444444444444,
              "#bd3786"
             ],
             [
              0.5555555555555556,
              "#d8576b"
             ],
             [
              0.6666666666666666,
              "#ed7953"
             ],
             [
              0.7777777777777778,
              "#fb9f3a"
             ],
             [
              0.8888888888888888,
              "#fdca26"
             ],
             [
              1,
              "#f0f921"
             ]
            ],
            "type": "contour"
           }
          ],
          "contourcarpet": [
           {
            "colorbar": {
             "outlinewidth": 0,
             "ticks": ""
            },
            "type": "contourcarpet"
           }
          ],
          "heatmap": [
           {
            "colorbar": {
             "outlinewidth": 0,
             "ticks": ""
            },
            "colorscale": [
             [
              0,
              "#0d0887"
             ],
             [
              0.1111111111111111,
              "#46039f"
             ],
             [
              0.2222222222222222,
              "#7201a8"
             ],
             [
              0.3333333333333333,
              "#9c179e"
             ],
             [
              0.4444444444444444,
              "#bd3786"
             ],
             [
              0.5555555555555556,
              "#d8576b"
             ],
             [
              0.6666666666666666,
              "#ed7953"
             ],
             [
              0.7777777777777778,
              "#fb9f3a"
             ],
             [
              0.8888888888888888,
              "#fdca26"
             ],
             [
              1,
              "#f0f921"
             ]
            ],
            "type": "heatmap"
           }
          ],
          "heatmapgl": [
           {
            "colorbar": {
             "outlinewidth": 0,
             "ticks": ""
            },
            "colorscale": [
             [
              0,
              "#0d0887"
             ],
             [
              0.1111111111111111,
              "#46039f"
             ],
             [
              0.2222222222222222,
              "#7201a8"
             ],
             [
              0.3333333333333333,
              "#9c179e"
             ],
             [
              0.4444444444444444,
              "#bd3786"
             ],
             [
              0.5555555555555556,
              "#d8576b"
             ],
             [
              0.6666666666666666,
              "#ed7953"
             ],
             [
              0.7777777777777778,
              "#fb9f3a"
             ],
             [
              0.8888888888888888,
              "#fdca26"
             ],
             [
              1,
              "#f0f921"
             ]
            ],
            "type": "heatmapgl"
           }
          ],
          "histogram": [
           {
            "marker": {
             "pattern": {
              "fillmode": "overlay",
              "size": 10,
              "solidity": 0.2
             }
            },
            "type": "histogram"
           }
          ],
          "histogram2d": [
           {
            "colorbar": {
             "outlinewidth": 0,
             "ticks": ""
            },
            "colorscale": [
             [
              0,
              "#0d0887"
             ],
             [
              0.1111111111111111,
              "#46039f"
             ],
             [
              0.2222222222222222,
              "#7201a8"
             ],
             [
              0.3333333333333333,
              "#9c179e"
             ],
             [
              0.4444444444444444,
              "#bd3786"
             ],
             [
              0.5555555555555556,
              "#d8576b"
             ],
             [
              0.6666666666666666,
              "#ed7953"
             ],
             [
              0.7777777777777778,
              "#fb9f3a"
             ],
             [
              0.8888888888888888,
              "#fdca26"
             ],
             [
              1,
              "#f0f921"
             ]
            ],
            "type": "histogram2d"
           }
          ],
          "histogram2dcontour": [
           {
            "colorbar": {
             "outlinewidth": 0,
             "ticks": ""
            },
            "colorscale": [
             [
              0,
              "#0d0887"
             ],
             [
              0.1111111111111111,
              "#46039f"
             ],
             [
              0.2222222222222222,
              "#7201a8"
             ],
             [
              0.3333333333333333,
              "#9c179e"
             ],
             [
              0.4444444444444444,
              "#bd3786"
             ],
             [
              0.5555555555555556,
              "#d8576b"
             ],
             [
              0.6666666666666666,
              "#ed7953"
             ],
             [
              0.7777777777777778,
              "#fb9f3a"
             ],
             [
              0.8888888888888888,
              "#fdca26"
             ],
             [
              1,
              "#f0f921"
             ]
            ],
            "type": "histogram2dcontour"
           }
          ],
          "mesh3d": [
           {
            "colorbar": {
             "outlinewidth": 0,
             "ticks": ""
            },
            "type": "mesh3d"
           }
          ],
          "parcoords": [
           {
            "line": {
             "colorbar": {
              "outlinewidth": 0,
              "ticks": ""
             }
            },
            "type": "parcoords"
           }
          ],
          "pie": [
           {
            "automargin": true,
            "type": "pie"
           }
          ],
          "scatter": [
           {
            "fillpattern": {
             "fillmode": "overlay",
             "size": 10,
             "solidity": 0.2
            },
            "type": "scatter"
           }
          ],
          "scatter3d": [
           {
            "line": {
             "colorbar": {
              "outlinewidth": 0,
              "ticks": ""
             }
            },
            "marker": {
             "colorbar": {
              "outlinewidth": 0,
              "ticks": ""
             }
            },
            "type": "scatter3d"
           }
          ],
          "scattercarpet": [
           {
            "marker": {
             "colorbar": {
              "outlinewidth": 0,
              "ticks": ""
             }
            },
            "type": "scattercarpet"
           }
          ],
          "scattergeo": [
           {
            "marker": {
             "colorbar": {
              "outlinewidth": 0,
              "ticks": ""
             }
            },
            "type": "scattergeo"
           }
          ],
          "scattergl": [
           {
            "marker": {
             "colorbar": {
              "outlinewidth": 0,
              "ticks": ""
             }
            },
            "type": "scattergl"
           }
          ],
          "scattermapbox": [
           {
            "marker": {
             "colorbar": {
              "outlinewidth": 0,
              "ticks": ""
             }
            },
            "type": "scattermapbox"
           }
          ],
          "scatterpolar": [
           {
            "marker": {
             "colorbar": {
              "outlinewidth": 0,
              "ticks": ""
             }
            },
            "type": "scatterpolar"
           }
          ],
          "scatterpolargl": [
           {
            "marker": {
             "colorbar": {
              "outlinewidth": 0,
              "ticks": ""
             }
            },
            "type": "scatterpolargl"
           }
          ],
          "scatterternary": [
           {
            "marker": {
             "colorbar": {
              "outlinewidth": 0,
              "ticks": ""
             }
            },
            "type": "scatterternary"
           }
          ],
          "surface": [
           {
            "colorbar": {
             "outlinewidth": 0,
             "ticks": ""
            },
            "colorscale": [
             [
              0,
              "#0d0887"
             ],
             [
              0.1111111111111111,
              "#46039f"
             ],
             [
              0.2222222222222222,
              "#7201a8"
             ],
             [
              0.3333333333333333,
              "#9c179e"
             ],
             [
              0.4444444444444444,
              "#bd3786"
             ],
             [
              0.5555555555555556,
              "#d8576b"
             ],
             [
              0.6666666666666666,
              "#ed7953"
             ],
             [
              0.7777777777777778,
              "#fb9f3a"
             ],
             [
              0.8888888888888888,
              "#fdca26"
             ],
             [
              1,
              "#f0f921"
             ]
            ],
            "type": "surface"
           }
          ],
          "table": [
           {
            "cells": {
             "fill": {
              "color": "#EBF0F8"
             },
             "line": {
              "color": "white"
             }
            },
            "header": {
             "fill": {
              "color": "#C8D4E3"
             },
             "line": {
              "color": "white"
             }
            },
            "type": "table"
           }
          ]
         },
         "layout": {
          "annotationdefaults": {
           "arrowcolor": "#2a3f5f",
           "arrowhead": 0,
           "arrowwidth": 1
          },
          "autotypenumbers": "strict",
          "coloraxis": {
           "colorbar": {
            "outlinewidth": 0,
            "ticks": ""
           }
          },
          "colorscale": {
           "diverging": [
            [
             0,
             "#8e0152"
            ],
            [
             0.1,
             "#c51b7d"
            ],
            [
             0.2,
             "#de77ae"
            ],
            [
             0.3,
             "#f1b6da"
            ],
            [
             0.4,
             "#fde0ef"
            ],
            [
             0.5,
             "#f7f7f7"
            ],
            [
             0.6,
             "#e6f5d0"
            ],
            [
             0.7,
             "#b8e186"
            ],
            [
             0.8,
             "#7fbc41"
            ],
            [
             0.9,
             "#4d9221"
            ],
            [
             1,
             "#276419"
            ]
           ],
           "sequential": [
            [
             0,
             "#0d0887"
            ],
            [
             0.1111111111111111,
             "#46039f"
            ],
            [
             0.2222222222222222,
             "#7201a8"
            ],
            [
             0.3333333333333333,
             "#9c179e"
            ],
            [
             0.4444444444444444,
             "#bd3786"
            ],
            [
             0.5555555555555556,
             "#d8576b"
            ],
            [
             0.6666666666666666,
             "#ed7953"
            ],
            [
             0.7777777777777778,
             "#fb9f3a"
            ],
            [
             0.8888888888888888,
             "#fdca26"
            ],
            [
             1,
             "#f0f921"
            ]
           ],
           "sequentialminus": [
            [
             0,
             "#0d0887"
            ],
            [
             0.1111111111111111,
             "#46039f"
            ],
            [
             0.2222222222222222,
             "#7201a8"
            ],
            [
             0.3333333333333333,
             "#9c179e"
            ],
            [
             0.4444444444444444,
             "#bd3786"
            ],
            [
             0.5555555555555556,
             "#d8576b"
            ],
            [
             0.6666666666666666,
             "#ed7953"
            ],
            [
             0.7777777777777778,
             "#fb9f3a"
            ],
            [
             0.8888888888888888,
             "#fdca26"
            ],
            [
             1,
             "#f0f921"
            ]
           ]
          },
          "colorway": [
           "#636efa",
           "#EF553B",
           "#00cc96",
           "#ab63fa",
           "#FFA15A",
           "#19d3f3",
           "#FF6692",
           "#B6E880",
           "#FF97FF",
           "#FECB52"
          ],
          "font": {
           "color": "#2a3f5f"
          },
          "geo": {
           "bgcolor": "white",
           "lakecolor": "white",
           "landcolor": "#E5ECF6",
           "showlakes": true,
           "showland": true,
           "subunitcolor": "white"
          },
          "hoverlabel": {
           "align": "left"
          },
          "hovermode": "closest",
          "mapbox": {
           "style": "light"
          },
          "paper_bgcolor": "white",
          "plot_bgcolor": "#E5ECF6",
          "polar": {
           "angularaxis": {
            "gridcolor": "white",
            "linecolor": "white",
            "ticks": ""
           },
           "bgcolor": "#E5ECF6",
           "radialaxis": {
            "gridcolor": "white",
            "linecolor": "white",
            "ticks": ""
           }
          },
          "scene": {
           "xaxis": {
            "backgroundcolor": "#E5ECF6",
            "gridcolor": "white",
            "gridwidth": 2,
            "linecolor": "white",
            "showbackground": true,
            "ticks": "",
            "zerolinecolor": "white"
           },
           "yaxis": {
            "backgroundcolor": "#E5ECF6",
            "gridcolor": "white",
            "gridwidth": 2,
            "linecolor": "white",
            "showbackground": true,
            "ticks": "",
            "zerolinecolor": "white"
           },
           "zaxis": {
            "backgroundcolor": "#E5ECF6",
            "gridcolor": "white",
            "gridwidth": 2,
            "linecolor": "white",
            "showbackground": true,
            "ticks": "",
            "zerolinecolor": "white"
           }
          },
          "shapedefaults": {
           "line": {
            "color": "#2a3f5f"
           }
          },
          "ternary": {
           "aaxis": {
            "gridcolor": "white",
            "linecolor": "white",
            "ticks": ""
           },
           "baxis": {
            "gridcolor": "white",
            "linecolor": "white",
            "ticks": ""
           },
           "bgcolor": "#E5ECF6",
           "caxis": {
            "gridcolor": "white",
            "linecolor": "white",
            "ticks": ""
           }
          },
          "title": {
           "x": 0.05
          },
          "xaxis": {
           "automargin": true,
           "gridcolor": "white",
           "linecolor": "white",
           "ticks": "",
           "title": {
            "standoff": 15
           },
           "zerolinecolor": "white",
           "zerolinewidth": 2
          },
          "yaxis": {
           "automargin": true,
           "gridcolor": "white",
           "linecolor": "white",
           "ticks": "",
           "title": {
            "standoff": 15
           },
           "zerolinecolor": "white",
           "zerolinewidth": 2
          }
         }
        },
        "title": {
         "text": "Monthly Distribution of Ideal User Acquisition",
         "x": 0.5
        },
        "xaxis": {
         "anchor": "y",
         "domain": [
          0,
          1
         ],
         "title": {
          "text": "Month"
         }
        },
        "yaxis": {
         "anchor": "x",
         "domain": [
          0,
          1
         ],
         "title": {
          "text": "Percentage"
         }
        }
       }
      }
     },
     "metadata": {},
     "output_type": "display_data"
    }
   ],
   "source": [
    "ideal_customer_acquisition = data_ideal_customers_unique.groupby('first_txn_month')['customerID'].count().reset_index()\n",
    "ideal_customer_acquisition['Percentage'] = (ideal_customer_acquisition['customerID']/ideal_customer_acquisition['customerID'].sum())*100\n",
    "\n",
    "ideal_customer_acquisition['first_txn_month'] =ideal_customer_acquisition['first_txn_month'].astype(str)\n",
    "\n",
    "fig = px.bar(ideal_customer_acquisition, \n",
    "             x='first_txn_month', \n",
    "             y='Percentage',\n",
    "             labels={'first_txn_month': 'Month'},\n",
    "             title='Monthly Distribution of Ideal User Acquisition')\n",
    "\n",
    "fig.update_layout(\n",
    "    plot_bgcolor='white',\n",
    "    paper_bgcolor='white',\n",
    "    title_x = 0.5\n",
    ")\n",
    "\n",
    "fig.show()"
   ]
  },
  {
   "cell_type": "markdown",
   "metadata": {},
   "source": [
    "### Insight: Peak Acquisition Periods for Ideal Customers\n",
    "\n",
    "Our data reveals that the acquisition of ideal customers peaked in the spring, with the highest percentages recorded in March, April, and May of 2023. These months alone account for a substantial 68.21% of our ideal customer acquisitions, pointing to a highly effective quarter for our marketing and engagement strategies. This trend could be attributed to seasonal marketing campaigns or user behavior that aligns with financial cycles such as tax returns or holiday spending. Identifying the drivers behind this surge can help us replicate this success in future periods.\n"
   ]
  },
  {
   "cell_type": "markdown",
   "metadata": {},
   "source": [
    "# From where did we acquire them?"
   ]
  },
  {
   "cell_type": "markdown",
   "metadata": {},
   "source": [
    "---\n",
    "**Note on Viewing the Geospatial Map:**\n",
    "\n",
    "To view the detailed geospatial map that visualizes the distribution of ideal customers across different states, please download the accompanying `.txt` file named `map_code.txt` along with this Jupyter Notebook.\n",
    "\n",
    "Once you have both files, simply:\n",
    "\n",
    "1. Open this Jupyter Notebook.\n",
    "2. Navigate to the section titled 'Geospatial Distribution of Ideal Customers'.\n",
    "3. Copy the Python code from `map_code.txt`.\n",
    "4. Paste the code into a new cell in the notebook at the specified section.\n",
    "5. Run the cell to generate and view the interactive map.\n",
    "\n",
    "This approach ensures the notebook remains lightweight for GitHub hosting, while still providing you with the full capabilities to explore the geospatial data visualization.\n",
    "\n",
    "---"
   ]
  },
  {
   "cell_type": "code",
   "execution_count": 14,
   "metadata": {},
   "outputs": [
    {
     "data": {
      "text/html": [
       "<div>\n",
       "<style scoped>\n",
       "    .dataframe tbody tr th:only-of-type {\n",
       "        vertical-align: middle;\n",
       "    }\n",
       "\n",
       "    .dataframe tbody tr th {\n",
       "        vertical-align: top;\n",
       "    }\n",
       "\n",
       "    .dataframe thead th {\n",
       "        text-align: right;\n",
       "    }\n",
       "</style>\n",
       "<table border=\"1\" class=\"dataframe\">\n",
       "  <thead>\n",
       "    <tr style=\"text-align: right;\">\n",
       "      <th></th>\n",
       "      <th>location</th>\n",
       "      <th>customerID</th>\n",
       "    </tr>\n",
       "  </thead>\n",
       "  <tbody>\n",
       "    <tr>\n",
       "      <th>3</th>\n",
       "      <td>Campeche</td>\n",
       "      <td>53</td>\n",
       "    </tr>\n",
       "    <tr>\n",
       "      <th>18</th>\n",
       "      <td>Nuevo León</td>\n",
       "      <td>48</td>\n",
       "    </tr>\n",
       "    <tr>\n",
       "      <th>22</th>\n",
       "      <td>Quintana Roo</td>\n",
       "      <td>47</td>\n",
       "    </tr>\n",
       "    <tr>\n",
       "      <th>11</th>\n",
       "      <td>Guerrero</td>\n",
       "      <td>47</td>\n",
       "    </tr>\n",
       "    <tr>\n",
       "      <th>10</th>\n",
       "      <td>Guanajuato</td>\n",
       "      <td>46</td>\n",
       "    </tr>\n",
       "    <tr>\n",
       "      <th>12</th>\n",
       "      <td>Hidalgo</td>\n",
       "      <td>46</td>\n",
       "    </tr>\n",
       "    <tr>\n",
       "      <th>9</th>\n",
       "      <td>Durango</td>\n",
       "      <td>45</td>\n",
       "    </tr>\n",
       "    <tr>\n",
       "      <th>2</th>\n",
       "      <td>Baja California Sur</td>\n",
       "      <td>44</td>\n",
       "    </tr>\n",
       "    <tr>\n",
       "      <th>5</th>\n",
       "      <td>Chihuahua</td>\n",
       "      <td>42</td>\n",
       "    </tr>\n",
       "    <tr>\n",
       "      <th>1</th>\n",
       "      <td>Baja California</td>\n",
       "      <td>41</td>\n",
       "    </tr>\n",
       "    <tr>\n",
       "      <th>29</th>\n",
       "      <td>Veracruz de Ignacio de la Llave</td>\n",
       "      <td>40</td>\n",
       "    </tr>\n",
       "    <tr>\n",
       "      <th>7</th>\n",
       "      <td>Coahuila de Zaragoza</td>\n",
       "      <td>39</td>\n",
       "    </tr>\n",
       "    <tr>\n",
       "      <th>17</th>\n",
       "      <td>Nayarit</td>\n",
       "      <td>39</td>\n",
       "    </tr>\n",
       "    <tr>\n",
       "      <th>23</th>\n",
       "      <td>San Luis Potosí</td>\n",
       "      <td>38</td>\n",
       "    </tr>\n",
       "    <tr>\n",
       "      <th>19</th>\n",
       "      <td>Oaxaca</td>\n",
       "      <td>38</td>\n",
       "    </tr>\n",
       "    <tr>\n",
       "      <th>28</th>\n",
       "      <td>Tlaxcala</td>\n",
       "      <td>37</td>\n",
       "    </tr>\n",
       "    <tr>\n",
       "      <th>16</th>\n",
       "      <td>México</td>\n",
       "      <td>37</td>\n",
       "    </tr>\n",
       "    <tr>\n",
       "      <th>14</th>\n",
       "      <td>Michoacán de Ocampo</td>\n",
       "      <td>37</td>\n",
       "    </tr>\n",
       "    <tr>\n",
       "      <th>26</th>\n",
       "      <td>Tabasco</td>\n",
       "      <td>37</td>\n",
       "    </tr>\n",
       "    <tr>\n",
       "      <th>20</th>\n",
       "      <td>Puebla</td>\n",
       "      <td>36</td>\n",
       "    </tr>\n",
       "    <tr>\n",
       "      <th>15</th>\n",
       "      <td>Morelos</td>\n",
       "      <td>35</td>\n",
       "    </tr>\n",
       "    <tr>\n",
       "      <th>30</th>\n",
       "      <td>Yucatán</td>\n",
       "      <td>35</td>\n",
       "    </tr>\n",
       "    <tr>\n",
       "      <th>24</th>\n",
       "      <td>Sinaloa</td>\n",
       "      <td>35</td>\n",
       "    </tr>\n",
       "    <tr>\n",
       "      <th>27</th>\n",
       "      <td>Tamaulipas</td>\n",
       "      <td>34</td>\n",
       "    </tr>\n",
       "    <tr>\n",
       "      <th>8</th>\n",
       "      <td>Colima</td>\n",
       "      <td>34</td>\n",
       "    </tr>\n",
       "    <tr>\n",
       "      <th>4</th>\n",
       "      <td>Chiapas</td>\n",
       "      <td>34</td>\n",
       "    </tr>\n",
       "    <tr>\n",
       "      <th>25</th>\n",
       "      <td>Sonora</td>\n",
       "      <td>33</td>\n",
       "    </tr>\n",
       "    <tr>\n",
       "      <th>0</th>\n",
       "      <td>Aguascalientes</td>\n",
       "      <td>32</td>\n",
       "    </tr>\n",
       "    <tr>\n",
       "      <th>31</th>\n",
       "      <td>Zacatecas</td>\n",
       "      <td>32</td>\n",
       "    </tr>\n",
       "    <tr>\n",
       "      <th>6</th>\n",
       "      <td>Ciudad de México</td>\n",
       "      <td>31</td>\n",
       "    </tr>\n",
       "    <tr>\n",
       "      <th>21</th>\n",
       "      <td>Querétaro</td>\n",
       "      <td>29</td>\n",
       "    </tr>\n",
       "    <tr>\n",
       "      <th>13</th>\n",
       "      <td>Jalisco</td>\n",
       "      <td>29</td>\n",
       "    </tr>\n",
       "  </tbody>\n",
       "</table>\n",
       "</div>"
      ],
      "text/plain": [
       "                           location  customerID\n",
       "3                          Campeche          53\n",
       "18                       Nuevo León          48\n",
       "22                     Quintana Roo          47\n",
       "11                         Guerrero          47\n",
       "10                       Guanajuato          46\n",
       "12                          Hidalgo          46\n",
       "9                           Durango          45\n",
       "2               Baja California Sur          44\n",
       "5                         Chihuahua          42\n",
       "1                   Baja California          41\n",
       "29  Veracruz de Ignacio de la Llave          40\n",
       "7              Coahuila de Zaragoza          39\n",
       "17                          Nayarit          39\n",
       "23                  San Luis Potosí          38\n",
       "19                           Oaxaca          38\n",
       "28                         Tlaxcala          37\n",
       "16                           México          37\n",
       "14              Michoacán de Ocampo          37\n",
       "26                          Tabasco          37\n",
       "20                           Puebla          36\n",
       "15                          Morelos          35\n",
       "30                          Yucatán          35\n",
       "24                          Sinaloa          35\n",
       "27                       Tamaulipas          34\n",
       "8                            Colima          34\n",
       "4                           Chiapas          34\n",
       "25                           Sonora          33\n",
       "0                    Aguascalientes          32\n",
       "31                        Zacatecas          32\n",
       "6                  Ciudad de México          31\n",
       "21                        Querétaro          29\n",
       "13                          Jalisco          29"
      ]
     },
     "execution_count": 14,
     "metadata": {},
     "output_type": "execute_result"
    }
   ],
   "source": [
    "# Geospatial Distribution of Ideal Customers\n",
    "customers_x_states = data_ideal_customers.groupby('location')['customerID'].nunique().reset_index()\n",
    "customers_x_states_ordered = customers_x_states.sort_values(by = 'customerID', ascending= False)\n",
    "customers_x_states_ordered"
   ]
  },
  {
   "cell_type": "markdown",
   "metadata": {},
   "source": [
    "### Insight: Geographic Trends in Ideal Customer Acquisition\n",
    "\n",
    "Our spatial analysis reveals that ideal customer acquisition is not uniform across the country. Notably, states like Campeche, Nuevo León, and Guerrero lead in terms of the number of ideal customers, each with over 45 acquisitions. The visualization underscores the importance of regional strategies and suggests that localized marketing efforts could be particularly effective. By understanding regional preferences and behaviors, we can tailor our engagement strategies to resonate with potential users in high-performing areas and replicate this success in regions with lower acquisition numbers."
   ]
  },
  {
   "cell_type": "markdown",
   "metadata": {},
   "source": [
    "# First Conclusions"
   ]
  },
  {
   "cell_type": "markdown",
   "metadata": {},
   "source": [
    "### Conclusion 1: Ideal Customer Engagement Range\n",
    "The ideal customers actively engage with the platform, making between 10 to 19 transactions annually. This frequency signifies a highly valuable customer segment that is engaged enough to be profitable but not so much as to suggest anomalous behavior. These customers form a substantial 27.61% of the total user base, indicating a strong core of your application's users that could be the focus of targeted engagement and retention strategies.\n",
    "\n",
    "### Conclusion 2: Acquisition Channels and Timing\n",
    "The ideal customers are acquired through a diverse mix of channels, with organic acquisition slightly leading. The spring months, particularly March to May, are the most effective for acquiring these customers. This could inform future marketing campaigns, suggesting a need to increase efforts during these months or to analyze what about these periods makes them so conducive to acquiring ideal customers.\n",
    "\n",
    "### Conclusion 3: Regional Preferences in Customer Acquisition\n",
    "There is a clear geographical pattern to where ideal customers are located, with specific states showing higher acquisition numbers. This regional variance highlights the importance of understanding local market dynamics and can direct localized marketing efforts. Tailoring marketing strategies to align with regional preferences and behaviors could help replicate the success seen in high-performing areas across other regions."
   ]
  },
  {
   "cell_type": "markdown",
   "metadata": {},
   "source": [
    "## Next Steps for Deepening User Analysis\n",
    "\n",
    "To further refine our understanding of the ideal customer and to enhance the effectiveness of our customer acquisition and retention strategies, the following analytical steps are recommended:\n",
    "\n",
    "### Segment-Specific Behavior Analysis\n",
    "\n",
    "#### **Action Item**: Deep Dive into High-Performing Segments\n",
    "- We should examine the transaction behaviors, preferred payment types, and frequency of use within the top-performing segments to understand the drivers of high engagement.\n",
    "- **Rationale**: Tailoring the app experience based on segment-specific preferences can increase customer satisfaction and transaction frequency.\n",
    "\n",
    "### Seasonal and Temporal Patterns\n",
    "\n",
    "#### **Action Item**: Analyze Seasonal Trends and Timing\n",
    "- We need to conduct a time-series analysis to identify patterns in customer acquisition and activity throughout the year.\n",
    "- **Rationale**: Understanding the temporal dynamics can help in planning marketing campaigns and feature rollouts to coincide with periods of high user activity.\n",
    "\n",
    "### Geo-Spatial Expansion Opportunities\n",
    "\n",
    "#### **Action Item**: Evaluate Underpenetrated Markets\n",
    "- we must perform a market penetration analysis on regions with lower acquisition numbers to identify potential barriers or opportunities for growth.\n",
    "- **Rationale**: Developing strategies to increase market penetration in these areas could lead to an expanded user base.\n",
    "\n",
    "### Product Usage Patterns\n",
    "\n",
    "#### **Action Item**: Profile Usage Across Services\n",
    "- We need to analyze the usage patterns of different in-app services (like bill payments, in-store payments, and e-commerce transactions) among the ideal customer segment.\n",
    "- **Rationale**: Insights can inform product development and promotional offers that cater to the most valued services.\n",
    "\n",
    "### Customer Journey Mapping\n",
    "\n",
    "#### **Action Item**: Map the Customer Journey\n",
    "- We must create a detailed customer journey maps from acquisition to retention, identifying key touchpoints that influence customer behavior.\n",
    "- **Rationale**: This can highlight areas for improving user experience and identify moments where customers are most receptive to engagement.\n",
    "\n",
    "### Predictive Modelling for Customer Lifetime Value (CLV)\n",
    "\n",
    "#### **Action Item**: Implement Predictive Analytics\n",
    "- We should use machine learning models to predict the Customer Lifetime Value of different segments, especially focusing on the ideal customer profile.\n",
    "- **Rationale**: Predictive insights can help in proactively designing personalized retention strategies and optimizing resource allocation for maximum ROI.\n"
   ]
  }
 ],
 "metadata": {
  "kernelspec": {
   "display_name": "Python 3",
   "language": "python",
   "name": "python3"
  },
  "language_info": {
   "codemirror_mode": {
    "name": "ipython",
    "version": 3
   },
   "file_extension": ".py",
   "mimetype": "text/x-python",
   "name": "python",
   "nbconvert_exporter": "python",
   "pygments_lexer": "ipython3",
   "version": "3.10.6"
  }
 },
 "nbformat": 4,
 "nbformat_minor": 2
}
